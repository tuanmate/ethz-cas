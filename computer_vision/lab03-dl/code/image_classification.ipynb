{
 "cells": [
  {
   "cell_type": "markdown",
   "metadata": {},
   "source": [
    "# Image Classification with PyTorch"
   ]
  },
  {
   "cell_type": "markdown",
   "metadata": {},
   "source": [
    "## Data loading\n"
   ]
  },
  {
   "cell_type": "code",
   "execution_count": 3,
   "metadata": {},
   "outputs": [],
   "source": [
    "import numpy as np\n",
    "import matplotlib.pyplot as plt\n",
    "\n",
    "import torch\n",
    "import torch.nn as nn\n",
    "import torch.nn.functional as F\n",
    "import torch.optim as optim\n",
    "from torch.utils.data import DataLoader\n",
    "import torchvision\n",
    "from torchvision import datasets, transforms"
   ]
  },
  {
   "cell_type": "code",
   "execution_count": 4,
   "metadata": {},
   "outputs": [],
   "source": [
    "# torchvision contains convinience functions for popular datasets\n",
    "ds_train = datasets.MNIST('data', train=True, download=True)"
   ]
  },
  {
   "cell_type": "markdown",
   "metadata": {},
   "source": [
    "Each sample is a 28x28 image"
   ]
  },
  {
   "cell_type": "code",
   "execution_count": 5,
   "metadata": {},
   "outputs": [
    {
     "name": "stdout",
     "output_type": "stream",
     "text": [
      "(<PIL.Image.Image image mode=L size=28x28 at 0x7FE7D1D6D250>, 5)\n"
     ]
    },
    {
     "data": {
      "image/png": "[encoded data removed]",
      "text/plain": [
       "<PIL.Image.Image image mode=L size=120x120 at 0x7FE8102DFCA0>"
      ]
     },
     "execution_count": 5,
     "metadata": {},
     "output_type": "execute_result"
    }
   ],
   "source": [
    "# if we index this dataset, we get a single data point: a PIL image and an Integer\n",
    "print(ds_train[0])\n",
    "ds_train[0][0].resize((120,120))"
   ]
  },
  {
   "cell_type": "markdown",
   "metadata": {},
   "source": [
    "Let's transform the data to something that our Pytorch models will understand\n",
    "for this purpose, we can supply a transform function to the datase"
   ]
  },
  {
   "cell_type": "code",
   "execution_count": 6,
   "metadata": {},
   "outputs": [],
   "source": [
    "transform = transforms.Compose([\n",
    "    transforms.ToTensor(),\n",
    "])\n",
    "ds_train = datasets.MNIST('data', train=True, download=True, transform=transform)"
   ]
  },
  {
   "cell_type": "markdown",
   "metadata": {},
   "source": [
    "The image is now a `torch.Tensor`"
   ]
  },
  {
   "cell_type": "code",
   "execution_count": 7,
   "metadata": {},
   "outputs": [
    {
     "data": {
      "text/plain": [
       "torch.Tensor"
      ]
     },
     "execution_count": 7,
     "metadata": {},
     "output_type": "execute_result"
    }
   ],
   "source": [
    "type(ds_train[0][0])"
   ]
  },
  {
   "cell_type": "markdown",
   "metadata": {},
   "source": [
    "The normalization is something you learned about in the lecture. Normalizing with $\\mu=0, \\sigma=1$ corresponds to no normalization. Let's compute the proper normalization constants!"
   ]
  },
  {
   "cell_type": "code",
   "execution_count": 8,
   "metadata": {},
   "outputs": [],
   "source": [
    "# lets get only the images \n",
    "ims_train = ds_train.data\n",
    "ims_train = ims_train.float() / 255."
   ]
  },
  {
   "cell_type": "code",
   "execution_count": 12,
   "metadata": {},
   "outputs": [],
   "source": [
    "#########################################################################\n",
    "# TODO: calculate the mean and std of MNIST images\n",
    "# hint: to look for operations on pytorch tensor, refer to the official PyTorch docs \n",
    "# https://pytorch.org/docs/stable/\n",
    "#########################################################################\n",
    "mu, std = torch.std_mean(ims_train)"
   ]
  },
  {
   "cell_type": "markdown",
   "metadata": {},
   "source": [
    "We normalize the data as below."
   ]
  },
  {
   "cell_type": "code",
   "execution_count": 13,
   "metadata": {},
   "outputs": [],
   "source": [
    "transform = transforms.Compose([\n",
    "    transforms.ToTensor(),\n",
    "    transforms.Normalize(mu, std)\n",
    "])\n",
    "ds_train = datasets.MNIST('data', train=True, download=True, transform=transform)\n",
    "ds_test = datasets.MNIST('data', train=False, download=True, transform=transform)"
   ]
  },
  {
   "cell_type": "code",
   "execution_count": 14,
   "metadata": {},
   "outputs": [
    {
     "data": {
      "text/plain": [
       "(tensor(-2.3581), tensor(5.2953))"
      ]
     },
     "execution_count": 14,
     "metadata": {},
     "output_type": "execute_result"
    }
   ],
   "source": [
    "ds_train[0][0].min(), ds_train[0][0].max()"
   ]
  },
  {
   "cell_type": "markdown",
   "metadata": {},
   "source": [
    "Next, we want to receive mini-batches, not only single data points.\n",
    "We use PyTorch's DataLoader class. Build a dataloader with a batch size of 64 and 4 workers (number of subprocess that peform the dataloading). Important: you need to shuffle the training data, not the test data.\n",
    "\n",
    "**NOTE**: if you encounter some unexpected errors in data loading, try setting `NUM_WORKERS = 0`"
   ]
  },
  {
   "cell_type": "code",
   "execution_count": 16,
   "metadata": {},
   "outputs": [],
   "source": [
    "BATCH_SIZE = 64\n",
    "NUM_WORKERS = 4\n",
    "#########################################################################\n",
    "# TODO: Build a dataloader for both train and test data.\n",
    "#########################################################################\n",
    "dl_train = DataLoader(\n",
    "    ds_train,\n",
    "    batch_size=BATCH_SIZE,\n",
    "    num_workers=NUM_WORKERS,\n",
    "    shuffle=True\n",
    ")\n",
    "\n",
    "dl_test = DataLoader(\n",
    "    ds_test,\n",
    "    batch_size=BATCH_SIZE,\n",
    "    num_workers=NUM_WORKERS,\n",
    "    shuffle=False\n",
    ")"
   ]
  },
  {
   "cell_type": "markdown",
   "metadata": {},
   "source": [
    "## MLP in Pytorch\n",
    "\n",
    "Ok, the dataloading works. Let's build our model, PyTorch makes this very easy. We will build replicate the model from our last exercises. However, now, we add another variable called `nLayer` that indicates how many linear layers that in your network. Please adapt your code from last exercise accordingly to allow different number of layers."
   ]
  },
  {
   "cell_type": "code",
   "execution_count": 17,
   "metadata": {},
   "outputs": [],
   "source": [
    "# These are the parameters to be used\n",
    "nInput = 784\n",
    "nOutput = 10\n",
    "nLayer = 2\n",
    "nHidden = 16\n",
    "act_fn = nn.ReLU()"
   ]
  },
  {
   "cell_type": "code",
   "execution_count": 92,
   "metadata": {},
   "outputs": [],
   "source": [
    "#########################################################################\n",
    "# TODO: Implement the __init__ of the MLP class. \n",
    "# insert the activation after every linear layer. Important: the number of \n",
    "# hidden layers should be variable!\n",
    "#########################################################################\n",
    "\n",
    "class MLP(nn.Module):\n",
    "    def __init__(self, nInput, nOutput, nLayer, nHidden, act_fn):\n",
    "        super(MLP, self).__init__()\n",
    "        layers = [] \n",
    "        \n",
    "        ##### implement this part #####\n",
    "        # first hidden layer\n",
    "        layers.extend([nn.Linear(nInput, nHidden), act_fn])\n",
    "\n",
    "        hidden_layers = [nn.Linear(nHidden, nHidden), act_fn] * (nLayer-1)\n",
    "        layers.extend(hidden_layers)\n",
    "        \n",
    "        # output layer\n",
    "        layers.extend([nn.Linear(nHidden, nOutput)])\n",
    "        \n",
    "        ###############################\n",
    "        \n",
    "        self.model = nn.Sequential(*layers)\n",
    "\n",
    "    def forward(self, x):\n",
    "        x = torch.flatten(x, 1)\n",
    "        return self.model(x)"
   ]
  },
  {
   "cell_type": "code",
   "execution_count": 93,
   "metadata": {
    "scrolled": true
   },
   "outputs": [
    {
     "data": {
      "text/plain": [
       "torch.Size([1, 10])"
      ]
     },
     "execution_count": 93,
     "metadata": {},
     "output_type": "execute_result"
    }
   ],
   "source": [
    "# Let's test if the forward pass works\n",
    "# this should print torch.Size([1, 10])\n",
    "t = torch.randn(1,1,28,28)\n",
    "mlp = MLP(nInput, nOutput, nLayer, nHidden, act_fn)\n",
    "mlp(t).shape"
   ]
  },
  {
   "cell_type": "code",
   "execution_count": 94,
   "metadata": {},
   "outputs": [
    {
     "data": {
      "text/plain": [
       "MLP(\n",
       "  (model): Sequential(\n",
       "    (0): Linear(in_features=784, out_features=16, bias=True)\n",
       "    (1): ReLU()\n",
       "    (2): Linear(in_features=16, out_features=16, bias=True)\n",
       "    (3): ReLU()\n",
       "    (4): Linear(in_features=16, out_features=10, bias=True)\n",
       "  )\n",
       ")"
      ]
     },
     "execution_count": 94,
     "metadata": {},
     "output_type": "execute_result"
    }
   ],
   "source": [
    "mlp"
   ]
  },
  {
   "cell_type": "markdown",
   "metadata": {},
   "source": [
    "We already implemented the test function for you"
   ]
  },
  {
   "cell_type": "code",
   "execution_count": 95,
   "metadata": {},
   "outputs": [],
   "source": [
    "def test(model, dl_test, device='cpu'):\n",
    "    model.eval()\n",
    "    test_loss = 0\n",
    "    correct = 0\n",
    "    with torch.no_grad():\n",
    "        for data, target in dl_test:\n",
    "            data, target = data.to(device), target.to(device)\n",
    "            output = model(data)\n",
    "            test_loss += F.cross_entropy(output, target, reduction='sum').item()  # sum up batch loss\n",
    "            pred = output.argmax(dim=1, keepdim=True)  # get the index of the max log-probability\n",
    "            correct += pred.eq(target.view_as(pred)).sum().item()\n",
    "\n",
    "    test_loss /= len(dl_test.dataset)\n",
    "\n",
    "    print('\\nTest set: Average loss: {:.4f}, Accuracy: {}/{} ({:.3f}%)\\n'.format(\n",
    "        test_loss, correct, len(dl_test.dataset),\n",
    "        100. * correct / len(dl_test.dataset)))"
   ]
  },
  {
   "cell_type": "markdown",
   "metadata": {},
   "source": [
    "Now you only need to implement the training and you are good to go"
   ]
  },
  {
   "cell_type": "code",
   "execution_count": 96,
   "metadata": {},
   "outputs": [],
   "source": [
    "#########################################################################\n",
    "# TODO: Implement the missing part of the training function. As a loss function we want to use cross entropy\n",
    "# It can be called with F.cross_entropy().\n",
    "# Hint: Pass through the model -> Backpropagate gradients -> Take gradient step\n",
    "#########################################################################\n",
    "\n",
    "def train(model, dl_train, optimizer, epoch, log_interval=100, device='cpu'):\n",
    "    model.train()\n",
    "    correct = 0\n",
    "    for batch_idx, (data, target) in enumerate(dl_train):\n",
    "        data, target = data.to(device), target.to(device)\n",
    "        \n",
    "        # first we need to zero the gradient, otherwise PyTorch would accumulate them\n",
    "        optimizer.zero_grad()         \n",
    "        \n",
    "        ##### implement this part #####\n",
    "        output = model(data)        \n",
    "        loss = F.cross_entropy(output, target, reduction='mean')\n",
    "        loss.backward()\n",
    "\n",
    "        optimizer.step()\n",
    "        \n",
    "        ###############################\n",
    "\n",
    "        # stats\n",
    "        pred = output.argmax(dim=1, keepdim=True)  # get the index of the max log-probability\n",
    "        correct += pred.eq(target.view_as(pred)).sum().item()\n",
    "\n",
    "        if batch_idx % log_interval == 0:\n",
    "            print('Train Epoch: {} [{}/{} ({:.0f}%)]\\tLoss: {:.6f}'.format(\n",
    "                epoch, batch_idx * len(data), len(dl_train.dataset),\n",
    "                100. * batch_idx / len(dl_train), loss.item()))\n",
    "\n",
    "    print('\\nTrain set: Average loss: {:.4f}, Accuracy: {}/{} ({:.1f}%)\\n'.format(\n",
    "        loss, correct, len(dl_train.dataset),\n",
    "        100. * correct / len(dl_train.dataset)))"
   ]
  },
  {
   "cell_type": "markdown",
   "metadata": {},
   "source": [
    "Ok, the setup is almost done. The onoly missing part is the optimizer. We are going to use Adam."
   ]
  },
  {
   "cell_type": "code",
   "execution_count": 97,
   "metadata": {},
   "outputs": [],
   "source": [
    "# reinitialize the mlp, so we can play with parameters right here\n",
    "mlp = MLP(nInput, nOutput, nLayer, nHidden, act_fn)\n",
    "optimizer = optim.Adam(mlp.parameters())"
   ]
  },
  {
   "cell_type": "code",
   "execution_count": 98,
   "metadata": {
    "scrolled": true
   },
   "outputs": [
    {
     "name": "stdout",
     "output_type": "stream",
     "text": [
      "Train Epoch: 1 [0/60000 (0%)]\tLoss: 2.391378\n",
      "Train Epoch: 1 [6400/60000 (11%)]\tLoss: 1.204523\n",
      "Train Epoch: 1 [12800/60000 (21%)]\tLoss: 0.459683\n",
      "Train Epoch: 1 [19200/60000 (32%)]\tLoss: 0.602580\n",
      "Train Epoch: 1 [25600/60000 (43%)]\tLoss: 0.446031\n",
      "Train Epoch: 1 [32000/60000 (53%)]\tLoss: 0.350963\n",
      "Train Epoch: 1 [38400/60000 (64%)]\tLoss: 0.275726\n",
      "Train Epoch: 1 [44800/60000 (75%)]\tLoss: 0.387180\n",
      "Train Epoch: 1 [51200/60000 (85%)]\tLoss: 0.211971\n",
      "Train Epoch: 1 [57600/60000 (96%)]\tLoss: 0.150254\n",
      "\n",
      "Train set: Average loss: 0.1966, Accuracy: 50915/60000 (84.9%)\n",
      "\n",
      "\n",
      "Test set: Average loss: 0.2836, Accuracy: 9160/10000 (91.600%)\n",
      "\n",
      "Train Epoch: 2 [0/60000 (0%)]\tLoss: 0.502992\n",
      "Train Epoch: 2 [6400/60000 (11%)]\tLoss: 0.311450\n",
      "Train Epoch: 2 [12800/60000 (21%)]\tLoss: 0.318315\n",
      "Train Epoch: 2 [19200/60000 (32%)]\tLoss: 0.390705\n",
      "Train Epoch: 2 [25600/60000 (43%)]\tLoss: 0.245507\n",
      "Train Epoch: 2 [32000/60000 (53%)]\tLoss: 0.312547\n",
      "Train Epoch: 2 [38400/60000 (64%)]\tLoss: 0.130566\n",
      "Train Epoch: 2 [44800/60000 (75%)]\tLoss: 0.296896\n",
      "Train Epoch: 2 [51200/60000 (85%)]\tLoss: 0.138644\n",
      "Train Epoch: 2 [57600/60000 (96%)]\tLoss: 0.378958\n",
      "\n",
      "Train set: Average loss: 0.4181, Accuracy: 55175/60000 (92.0%)\n",
      "\n",
      "\n",
      "Test set: Average loss: 0.2659, Accuracy: 9203/10000 (92.030%)\n",
      "\n",
      "Train Epoch: 3 [0/60000 (0%)]\tLoss: 0.205636\n",
      "Train Epoch: 3 [6400/60000 (11%)]\tLoss: 0.132527\n",
      "Train Epoch: 3 [12800/60000 (21%)]\tLoss: 0.404826\n",
      "Train Epoch: 3 [19200/60000 (32%)]\tLoss: 0.181009\n",
      "Train Epoch: 3 [25600/60000 (43%)]\tLoss: 0.511318\n",
      "Train Epoch: 3 [32000/60000 (53%)]\tLoss: 0.233794\n",
      "Train Epoch: 3 [38400/60000 (64%)]\tLoss: 0.280698\n",
      "Train Epoch: 3 [44800/60000 (75%)]\tLoss: 0.160278\n",
      "Train Epoch: 3 [51200/60000 (85%)]\tLoss: 0.181456\n",
      "Train Epoch: 3 [57600/60000 (96%)]\tLoss: 0.335548\n",
      "\n",
      "Train set: Average loss: 0.1280, Accuracy: 55636/60000 (92.7%)\n",
      "\n",
      "\n",
      "Test set: Average loss: 0.2654, Accuracy: 9197/10000 (91.970%)\n",
      "\n",
      "Train Epoch: 4 [0/60000 (0%)]\tLoss: 0.159173\n",
      "Train Epoch: 4 [6400/60000 (11%)]\tLoss: 0.089199\n",
      "Train Epoch: 4 [12800/60000 (21%)]\tLoss: 0.410462\n",
      "Train Epoch: 4 [19200/60000 (32%)]\tLoss: 0.176583\n",
      "Train Epoch: 4 [25600/60000 (43%)]\tLoss: 0.187352\n",
      "Train Epoch: 4 [32000/60000 (53%)]\tLoss: 0.323535\n",
      "Train Epoch: 4 [38400/60000 (64%)]\tLoss: 0.298884\n",
      "Train Epoch: 4 [44800/60000 (75%)]\tLoss: 0.216764\n",
      "Train Epoch: 4 [51200/60000 (85%)]\tLoss: 0.273428\n",
      "Train Epoch: 4 [57600/60000 (96%)]\tLoss: 0.228541\n",
      "\n",
      "Train set: Average loss: 0.1721, Accuracy: 55938/60000 (93.2%)\n",
      "\n",
      "\n",
      "Test set: Average loss: 0.2176, Accuracy: 9350/10000 (93.500%)\n",
      "\n",
      "Train Epoch: 5 [0/60000 (0%)]\tLoss: 0.233369\n",
      "Train Epoch: 5 [6400/60000 (11%)]\tLoss: 0.235141\n",
      "Train Epoch: 5 [12800/60000 (21%)]\tLoss: 0.221803\n",
      "Train Epoch: 5 [19200/60000 (32%)]\tLoss: 0.108579\n",
      "Train Epoch: 5 [25600/60000 (43%)]\tLoss: 0.276601\n",
      "Train Epoch: 5 [32000/60000 (53%)]\tLoss: 0.220286\n",
      "Train Epoch: 5 [38400/60000 (64%)]\tLoss: 0.139455\n",
      "Train Epoch: 5 [44800/60000 (75%)]\tLoss: 0.070744\n",
      "Train Epoch: 5 [51200/60000 (85%)]\tLoss: 0.338200\n",
      "Train Epoch: 5 [57600/60000 (96%)]\tLoss: 0.192167\n",
      "\n",
      "Train set: Average loss: 0.4256, Accuracy: 56223/60000 (93.7%)\n",
      "\n",
      "\n",
      "Test set: Average loss: 0.2239, Accuracy: 9305/10000 (93.050%)\n",
      "\n",
      "Train Epoch: 6 [0/60000 (0%)]\tLoss: 0.219834\n",
      "Train Epoch: 6 [6400/60000 (11%)]\tLoss: 0.374131\n",
      "Train Epoch: 6 [12800/60000 (21%)]\tLoss: 0.222847\n",
      "Train Epoch: 6 [19200/60000 (32%)]\tLoss: 0.139005\n",
      "Train Epoch: 6 [25600/60000 (43%)]\tLoss: 0.266759\n",
      "Train Epoch: 6 [32000/60000 (53%)]\tLoss: 0.211335\n",
      "Train Epoch: 6 [38400/60000 (64%)]\tLoss: 0.427332\n",
      "Train Epoch: 6 [44800/60000 (75%)]\tLoss: 0.252024\n",
      "Train Epoch: 6 [51200/60000 (85%)]\tLoss: 0.103444\n",
      "Train Epoch: 6 [57600/60000 (96%)]\tLoss: 0.097286\n",
      "\n",
      "Train set: Average loss: 0.3389, Accuracy: 56333/60000 (93.9%)\n",
      "\n",
      "\n",
      "Test set: Average loss: 0.2043, Accuracy: 9381/10000 (93.810%)\n",
      "\n",
      "Train Epoch: 7 [0/60000 (0%)]\tLoss: 0.284684\n",
      "Train Epoch: 7 [6400/60000 (11%)]\tLoss: 0.112472\n",
      "Train Epoch: 7 [12800/60000 (21%)]\tLoss: 0.122192\n",
      "Train Epoch: 7 [19200/60000 (32%)]\tLoss: 0.189076\n",
      "Train Epoch: 7 [25600/60000 (43%)]\tLoss: 0.329503\n",
      "Train Epoch: 7 [32000/60000 (53%)]\tLoss: 0.197220\n",
      "Train Epoch: 7 [38400/60000 (64%)]\tLoss: 0.305055\n",
      "Train Epoch: 7 [44800/60000 (75%)]\tLoss: 0.266433\n",
      "Train Epoch: 7 [51200/60000 (85%)]\tLoss: 0.094529\n",
      "Train Epoch: 7 [57600/60000 (96%)]\tLoss: 0.278313\n",
      "\n",
      "Train set: Average loss: 0.0501, Accuracy: 56508/60000 (94.2%)\n",
      "\n",
      "\n",
      "Test set: Average loss: 0.2185, Accuracy: 9324/10000 (93.240%)\n",
      "\n",
      "Train Epoch: 8 [0/60000 (0%)]\tLoss: 0.192336\n",
      "Train Epoch: 8 [6400/60000 (11%)]\tLoss: 0.223782\n",
      "Train Epoch: 8 [12800/60000 (21%)]\tLoss: 0.182137\n",
      "Train Epoch: 8 [19200/60000 (32%)]\tLoss: 0.172067\n",
      "Train Epoch: 8 [25600/60000 (43%)]\tLoss: 0.200842\n",
      "Train Epoch: 8 [32000/60000 (53%)]\tLoss: 0.149892\n",
      "Train Epoch: 8 [38400/60000 (64%)]\tLoss: 0.453193\n",
      "Train Epoch: 8 [44800/60000 (75%)]\tLoss: 0.137696\n",
      "Train Epoch: 8 [51200/60000 (85%)]\tLoss: 0.173329\n",
      "Train Epoch: 8 [57600/60000 (96%)]\tLoss: 0.126658\n",
      "\n",
      "Train set: Average loss: 0.5669, Accuracy: 56582/60000 (94.3%)\n",
      "\n",
      "\n",
      "Test set: Average loss: 0.1905, Accuracy: 9424/10000 (94.240%)\n",
      "\n",
      "Train Epoch: 9 [0/60000 (0%)]\tLoss: 0.269211\n",
      "Train Epoch: 9 [6400/60000 (11%)]\tLoss: 0.209457\n",
      "Train Epoch: 9 [12800/60000 (21%)]\tLoss: 0.155274\n",
      "Train Epoch: 9 [19200/60000 (32%)]\tLoss: 0.113207\n",
      "Train Epoch: 9 [25600/60000 (43%)]\tLoss: 0.106263\n",
      "Train Epoch: 9 [32000/60000 (53%)]\tLoss: 0.228444\n",
      "Train Epoch: 9 [38400/60000 (64%)]\tLoss: 0.075418\n",
      "Train Epoch: 9 [44800/60000 (75%)]\tLoss: 0.251658\n",
      "Train Epoch: 9 [51200/60000 (85%)]\tLoss: 0.247248\n",
      "Train Epoch: 9 [57600/60000 (96%)]\tLoss: 0.340691\n",
      "\n",
      "Train set: Average loss: 0.0574, Accuracy: 56657/60000 (94.4%)\n",
      "\n",
      "\n",
      "Test set: Average loss: 0.1942, Accuracy: 9407/10000 (94.070%)\n",
      "\n",
      "Train Epoch: 10 [0/60000 (0%)]\tLoss: 0.097831\n",
      "Train Epoch: 10 [6400/60000 (11%)]\tLoss: 0.111476\n",
      "Train Epoch: 10 [12800/60000 (21%)]\tLoss: 0.069714\n",
      "Train Epoch: 10 [19200/60000 (32%)]\tLoss: 0.075492\n",
      "Train Epoch: 10 [25600/60000 (43%)]\tLoss: 0.218233\n",
      "Train Epoch: 10 [32000/60000 (53%)]\tLoss: 0.341733\n",
      "Train Epoch: 10 [38400/60000 (64%)]\tLoss: 0.194532\n",
      "Train Epoch: 10 [44800/60000 (75%)]\tLoss: 0.166003\n",
      "Train Epoch: 10 [51200/60000 (85%)]\tLoss: 0.163427\n",
      "Train Epoch: 10 [57600/60000 (96%)]\tLoss: 0.092696\n",
      "\n",
      "Train set: Average loss: 0.1055, Accuracy: 56775/60000 (94.6%)\n",
      "\n",
      "\n",
      "Test set: Average loss: 0.1885, Accuracy: 9442/10000 (94.420%)\n",
      "\n",
      "Training is finished.\n"
     ]
    }
   ],
   "source": [
    "epochs = 10\n",
    "for epoch in range(1, epochs + 1):\n",
    "    train(mlp, dl_train, optimizer, epoch, log_interval=100)\n",
    "    test(mlp, dl_test)\n",
    "\n",
    "print ('Training is finished.')"
   ]
  },
  {
   "cell_type": "markdown",
   "metadata": {},
   "source": [
    "After training, you should see test accuracies of > **94%** - By they way, here we report test accuracy, the last exercises reported test error. Accuracy is simply (1 - error). Both metrics are commonly reported, there is no clear preference in literature for one or the other."
   ]
  },
  {
   "cell_type": "markdown",
   "metadata": {},
   "source": [
    "Now, can you do some parameter tuning to boost the test accuracy to > **97%**?"
   ]
  },
  {
   "cell_type": "code",
   "execution_count": 101,
   "metadata": {},
   "outputs": [
    {
     "name": "stdout",
     "output_type": "stream",
     "text": [
      "Train Epoch: 1 [0/60000 (0%)]\tLoss: 2.318208\n",
      "\n",
      "Train set: Average loss: 0.1423, Accuracy: 54195/60000 (90.3%)\n",
      "\n",
      "\n",
      "Test set: Average loss: 0.1697, Accuracy: 9486/10000 (94.860%)\n",
      "\n",
      "Train Epoch: 2 [0/60000 (0%)]\tLoss: 0.055981\n",
      "\n",
      "Train set: Average loss: 0.1795, Accuracy: 57322/60000 (95.5%)\n",
      "\n",
      "\n",
      "Test set: Average loss: 0.1276, Accuracy: 9604/10000 (96.040%)\n",
      "\n",
      "Train Epoch: 3 [0/60000 (0%)]\tLoss: 0.123473\n",
      "\n",
      "Train set: Average loss: 0.0671, Accuracy: 57850/60000 (96.4%)\n",
      "\n",
      "\n",
      "Test set: Average loss: 0.1354, Accuracy: 9599/10000 (95.990%)\n",
      "\n",
      "Train Epoch: 4 [0/60000 (0%)]\tLoss: 0.168943\n",
      "\n",
      "Train set: Average loss: 0.3539, Accuracy: 58262/60000 (97.1%)\n",
      "\n",
      "\n",
      "Test set: Average loss: 0.1214, Accuracy: 9617/10000 (96.170%)\n",
      "\n",
      "Train Epoch: 5 [0/60000 (0%)]\tLoss: 0.093358\n",
      "\n",
      "Train set: Average loss: 0.1404, Accuracy: 58463/60000 (97.4%)\n",
      "\n",
      "\n",
      "Test set: Average loss: 0.1074, Accuracy: 9673/10000 (96.730%)\n",
      "\n",
      "Train Epoch: 6 [0/60000 (0%)]\tLoss: 0.109422\n",
      "\n",
      "Train set: Average loss: 0.0257, Accuracy: 58616/60000 (97.7%)\n",
      "\n",
      "\n",
      "Test set: Average loss: 0.1125, Accuracy: 9678/10000 (96.780%)\n",
      "\n",
      "Train Epoch: 7 [0/60000 (0%)]\tLoss: 0.061068\n",
      "\n",
      "Train set: Average loss: 0.0369, Accuracy: 58659/60000 (97.8%)\n",
      "\n",
      "\n",
      "Test set: Average loss: 0.1058, Accuracy: 9675/10000 (96.750%)\n",
      "\n",
      "Train Epoch: 8 [0/60000 (0%)]\tLoss: 0.018772\n",
      "\n",
      "Train set: Average loss: 0.0710, Accuracy: 58849/60000 (98.1%)\n",
      "\n",
      "\n",
      "Test set: Average loss: 0.1157, Accuracy: 9655/10000 (96.550%)\n",
      "\n",
      "Train Epoch: 9 [0/60000 (0%)]\tLoss: 0.081840\n",
      "\n",
      "Train set: Average loss: 0.0345, Accuracy: 58994/60000 (98.3%)\n",
      "\n",
      "\n",
      "Test set: Average loss: 0.1148, Accuracy: 9709/10000 (97.090%)\n",
      "\n",
      "Train Epoch: 10 [0/60000 (0%)]\tLoss: 0.003005\n",
      "\n",
      "Train set: Average loss: 0.0751, Accuracy: 58944/60000 (98.2%)\n",
      "\n",
      "\n",
      "Test set: Average loss: 0.0927, Accuracy: 9755/10000 (97.550%)\n",
      "\n",
      "Training is finished.\n"
     ]
    }
   ],
   "source": [
    "#########################################################################\n",
    "#TODO: modify the parameters below to see which setting that you can get to 97%\n",
    "#########################################################################\n",
    "nLayer = 3\n",
    "nHidden = 64\n",
    "act_fn = nn.ReLU()\n",
    "\n",
    "# reinitialize the mlp, so we can play with parameters right here\n",
    "mlp = MLP(nInput, nOutput, nLayer, nHidden, act_fn)\n",
    "optimizer = optim.Adam(mlp.parameters())\n",
    "\n",
    "epochs = 10\n",
    "for epoch in range(1, epochs + 1):\n",
    "    train(mlp, dl_train, optimizer, epoch, log_interval=100)\n",
    "    test(mlp, dl_test)\n",
    "\n",
    "print ('Training is finished.')"
   ]
  },
  {
   "cell_type": "markdown",
   "metadata": {},
   "source": [
    "Before you move on to the next exercise, you can further play with the other parameters (learning rate, epochs, a different optimizer, etc.) to get a feeling what can improve or hamper performance. "
   ]
  },
  {
   "cell_type": "markdown",
   "metadata": {},
   "source": [
    "## CNN\n",
    "Alright, we matched our prior performance. Let's surpass it! You will soon see the power of CNN by building a small one yourself. The structure should be as follows\n",
    "\n",
    "| CNN Architecture                             \t|\n",
    "|----------------------------------------------\t|\n",
    "| Conv: $C_{in}=1, C_{out}=32, K=3, S=1, P=0$  \t|\n",
    "| ReLU                                         \t|\n",
    "| Conv: $C_{in}=32, C_{out}=64, K=3, S=1, P=0$ \t|\n",
    "| ReLU                                         \t|\n",
    "| MaxPool2d: $K=2, S=2, P=0$                   \t|\n",
    "| Dropout: $p=0.25$                            \t|\n",
    "| Linear: $C_{in}=9216, C_{out}=128$           \t|\n",
    "| ReLU                                         \t|\n",
    "| Dropout: $p=0.5$                             \t|\n",
    "| Linear: $C_{in}=128, C_{out}=10$             \t|\n",
    "\n",
    "The layers you will need are: \n",
    "\n",
    "`nn.Conv2d,  nn.Linear,  nn.Dropout, nn.MaxPool2d, nn.Flatten`\n",
    "\n",
    "For layers without parameters you can alternatively use function in the forward pass:  \n",
    "\n",
    "`F.max_pool2d, torch.flatten`"
   ]
  },
  {
   "cell_type": "code",
   "execution_count": 104,
   "metadata": {},
   "outputs": [],
   "source": [
    "#########################################################################\n",
    "# TODO: Implement the __init__ and forward method of the CNN class. \n",
    "# Hint: do not forget to flatten the appropriate dimension after the convolutional blocks. \n",
    "# A linear layers expect input of the size (B, H) with batch size B and feature size H\n",
    "#########################################################################\n",
    "\n",
    "class CNN(nn.Module):\n",
    "    def __init__(self):\n",
    "        super(CNN, self).__init__()\n",
    "        self.model = nn.Sequential(\n",
    "            nn.Conv2d(1, 32, kernel_size=3, stride=1, padding=0),\n",
    "            nn.ReLU(),\n",
    "            nn.Conv2d(32, 64, kernel_size=3, stride=1, padding=0),\n",
    "            nn.ReLU(),\n",
    "            nn.MaxPool2d(kernel_size=2, stride=2, padding=0),\n",
    "            nn.Dropout(p=0.25),\n",
    "            nn.Flatten(),\n",
    "            nn.Linear(9216, 128),\n",
    "            nn.ReLU(),\n",
    "            nn.Dropout(p=0.5),\n",
    "            nn.Linear(128, 10)\n",
    "        )\n",
    "\n",
    "    def forward(self, x):\n",
    "        return self.model(x)\n"
   ]
  },
  {
   "cell_type": "code",
   "execution_count": 105,
   "metadata": {},
   "outputs": [
    {
     "data": {
      "text/plain": [
       "torch.Size([1, 10])"
      ]
     },
     "execution_count": 105,
     "metadata": {},
     "output_type": "execute_result"
    }
   ],
   "source": [
    "# Let's test if the forward pass works\n",
    "# this should print torch.Size([1, 10])\n",
    "t = torch.randn(1,1,28,28)\n",
    "cnn = CNN()\n",
    "cnn(t).shape"
   ]
  },
  {
   "cell_type": "markdown",
   "metadata": {},
   "source": [
    "Alright, let's train!"
   ]
  },
  {
   "cell_type": "code",
   "execution_count": 106,
   "metadata": {},
   "outputs": [],
   "source": [
    "optimizer = optim.Adam(cnn.parameters())"
   ]
  },
  {
   "cell_type": "code",
   "execution_count": 109,
   "metadata": {
    "scrolled": true
   },
   "outputs": [
    {
     "name": "stdout",
     "output_type": "stream",
     "text": [
      "Train Epoch: 1 [0/60000 (0%)]\tLoss: 0.099482\n",
      "Train Epoch: 1 [6400/60000 (11%)]\tLoss: 0.025688\n",
      "Train Epoch: 1 [12800/60000 (21%)]\tLoss: 0.080304\n",
      "Train Epoch: 1 [19200/60000 (32%)]\tLoss: 0.029859\n",
      "Train Epoch: 1 [25600/60000 (43%)]\tLoss: 0.040475\n",
      "Train Epoch: 1 [32000/60000 (53%)]\tLoss: 0.009949\n",
      "Train Epoch: 1 [38400/60000 (64%)]\tLoss: 0.025035\n",
      "Train Epoch: 1 [44800/60000 (75%)]\tLoss: 0.164724\n",
      "Train Epoch: 1 [51200/60000 (85%)]\tLoss: 0.023696\n",
      "Train Epoch: 1 [57600/60000 (96%)]\tLoss: 0.031715\n",
      "\n",
      "Train set: Average loss: 0.1737, Accuracy: 59208/60000 (98.7%)\n",
      "\n",
      "\n",
      "Test set: Average loss: 0.0325, Accuracy: 9904/10000 (99.040%)\n",
      "\n",
      "Train Epoch: 2 [0/60000 (0%)]\tLoss: 0.022214\n",
      "Train Epoch: 2 [6400/60000 (11%)]\tLoss: 0.002647\n",
      "Train Epoch: 2 [12800/60000 (21%)]\tLoss: 0.042226\n",
      "Train Epoch: 2 [19200/60000 (32%)]\tLoss: 0.054554\n",
      "Train Epoch: 2 [25600/60000 (43%)]\tLoss: 0.026077\n",
      "Train Epoch: 2 [32000/60000 (53%)]\tLoss: 0.030354\n",
      "Train Epoch: 2 [38400/60000 (64%)]\tLoss: 0.041895\n",
      "Train Epoch: 2 [44800/60000 (75%)]\tLoss: 0.002047\n",
      "Train Epoch: 2 [51200/60000 (85%)]\tLoss: 0.090037\n",
      "Train Epoch: 2 [57600/60000 (96%)]\tLoss: 0.001439\n",
      "\n",
      "Train set: Average loss: 0.1640, Accuracy: 59281/60000 (98.8%)\n",
      "\n",
      "\n",
      "Test set: Average loss: 0.0345, Accuracy: 9905/10000 (99.050%)\n",
      "\n",
      "Train Epoch: 3 [0/60000 (0%)]\tLoss: 0.001668\n",
      "Train Epoch: 3 [6400/60000 (11%)]\tLoss: 0.068313\n",
      "Train Epoch: 3 [12800/60000 (21%)]\tLoss: 0.017062\n",
      "Train Epoch: 3 [19200/60000 (32%)]\tLoss: 0.000856\n",
      "Train Epoch: 3 [25600/60000 (43%)]\tLoss: 0.000741\n",
      "Train Epoch: 3 [32000/60000 (53%)]\tLoss: 0.021839\n",
      "Train Epoch: 3 [38400/60000 (64%)]\tLoss: 0.026998\n",
      "Train Epoch: 3 [44800/60000 (75%)]\tLoss: 0.055806\n",
      "Train Epoch: 3 [51200/60000 (85%)]\tLoss: 0.000252\n",
      "Train Epoch: 3 [57600/60000 (96%)]\tLoss: 0.015903\n",
      "\n",
      "Train set: Average loss: 0.0086, Accuracy: 59306/60000 (98.8%)\n",
      "\n",
      "\n",
      "Test set: Average loss: 0.0361, Accuracy: 9894/10000 (98.940%)\n",
      "\n",
      "Train Epoch: 4 [0/60000 (0%)]\tLoss: 0.015868\n",
      "Train Epoch: 4 [6400/60000 (11%)]\tLoss: 0.009693\n",
      "Train Epoch: 4 [12800/60000 (21%)]\tLoss: 0.013004\n",
      "Train Epoch: 4 [19200/60000 (32%)]\tLoss: 0.006541\n",
      "Train Epoch: 4 [25600/60000 (43%)]\tLoss: 0.018902\n",
      "Train Epoch: 4 [32000/60000 (53%)]\tLoss: 0.050059\n",
      "Train Epoch: 4 [38400/60000 (64%)]\tLoss: 0.173858\n",
      "Train Epoch: 4 [44800/60000 (75%)]\tLoss: 0.005981\n",
      "Train Epoch: 4 [51200/60000 (85%)]\tLoss: 0.000393\n",
      "Train Epoch: 4 [57600/60000 (96%)]\tLoss: 0.092808\n",
      "\n",
      "Train set: Average loss: 0.0008, Accuracy: 59379/60000 (99.0%)\n",
      "\n",
      "\n",
      "Test set: Average loss: 0.0304, Accuracy: 9924/10000 (99.240%)\n",
      "\n",
      "Train Epoch: 5 [0/60000 (0%)]\tLoss: 0.010865\n",
      "Train Epoch: 5 [6400/60000 (11%)]\tLoss: 0.011138\n",
      "Train Epoch: 5 [12800/60000 (21%)]\tLoss: 0.072725\n",
      "Train Epoch: 5 [19200/60000 (32%)]\tLoss: 0.035364\n",
      "Train Epoch: 5 [25600/60000 (43%)]\tLoss: 0.040042\n",
      "Train Epoch: 5 [32000/60000 (53%)]\tLoss: 0.052419\n",
      "Train Epoch: 5 [38400/60000 (64%)]\tLoss: 0.007604\n",
      "Train Epoch: 5 [44800/60000 (75%)]\tLoss: 0.006118\n",
      "Train Epoch: 5 [51200/60000 (85%)]\tLoss: 0.002638\n",
      "Train Epoch: 5 [57600/60000 (96%)]\tLoss: 0.005530\n",
      "\n",
      "Train set: Average loss: 0.0032, Accuracy: 59433/60000 (99.1%)\n",
      "\n",
      "\n",
      "Test set: Average loss: 0.0425, Accuracy: 9888/10000 (98.880%)\n",
      "\n",
      "Train Epoch: 6 [0/60000 (0%)]\tLoss: 0.001707\n",
      "Train Epoch: 6 [6400/60000 (11%)]\tLoss: 0.050486\n",
      "Train Epoch: 6 [12800/60000 (21%)]\tLoss: 0.000105\n",
      "Train Epoch: 6 [19200/60000 (32%)]\tLoss: 0.034492\n",
      "Train Epoch: 6 [25600/60000 (43%)]\tLoss: 0.066896\n",
      "Train Epoch: 6 [32000/60000 (53%)]\tLoss: 0.022289\n",
      "Train Epoch: 6 [38400/60000 (64%)]\tLoss: 0.011043\n",
      "Train Epoch: 6 [44800/60000 (75%)]\tLoss: 0.020589\n",
      "Train Epoch: 6 [51200/60000 (85%)]\tLoss: 0.108927\n",
      "Train Epoch: 6 [57600/60000 (96%)]\tLoss: 0.045596\n",
      "\n",
      "Train set: Average loss: 0.0102, Accuracy: 59421/60000 (99.0%)\n",
      "\n",
      "\n",
      "Test set: Average loss: 0.0351, Accuracy: 9910/10000 (99.100%)\n",
      "\n",
      "Train Epoch: 7 [0/60000 (0%)]\tLoss: 0.000815\n",
      "Train Epoch: 7 [6400/60000 (11%)]\tLoss: 0.029327\n",
      "Train Epoch: 7 [12800/60000 (21%)]\tLoss: 0.005197\n",
      "Train Epoch: 7 [19200/60000 (32%)]\tLoss: 0.118516\n",
      "Train Epoch: 7 [25600/60000 (43%)]\tLoss: 0.055378\n",
      "Train Epoch: 7 [32000/60000 (53%)]\tLoss: 0.003147\n",
      "Train Epoch: 7 [38400/60000 (64%)]\tLoss: 0.043407\n",
      "Train Epoch: 7 [44800/60000 (75%)]\tLoss: 0.043915\n",
      "Train Epoch: 7 [51200/60000 (85%)]\tLoss: 0.051508\n",
      "Train Epoch: 7 [57600/60000 (96%)]\tLoss: 0.010081\n",
      "\n",
      "Train set: Average loss: 0.1743, Accuracy: 59485/60000 (99.1%)\n",
      "\n",
      "\n",
      "Test set: Average loss: 0.0375, Accuracy: 9903/10000 (99.030%)\n",
      "\n",
      "Train Epoch: 8 [0/60000 (0%)]\tLoss: 0.001753\n",
      "Train Epoch: 8 [6400/60000 (11%)]\tLoss: 0.017067\n",
      "Train Epoch: 8 [12800/60000 (21%)]\tLoss: 0.000797\n",
      "Train Epoch: 8 [19200/60000 (32%)]\tLoss: 0.010096\n",
      "Train Epoch: 8 [25600/60000 (43%)]\tLoss: 0.020432\n",
      "Train Epoch: 8 [32000/60000 (53%)]\tLoss: 0.000326\n",
      "Train Epoch: 8 [38400/60000 (64%)]\tLoss: 0.088224\n",
      "Train Epoch: 8 [44800/60000 (75%)]\tLoss: 0.035500\n",
      "Train Epoch: 8 [51200/60000 (85%)]\tLoss: 0.019633\n",
      "Train Epoch: 8 [57600/60000 (96%)]\tLoss: 0.005949\n",
      "\n",
      "Train set: Average loss: 0.0007, Accuracy: 59525/60000 (99.2%)\n",
      "\n",
      "\n",
      "Test set: Average loss: 0.0369, Accuracy: 9910/10000 (99.100%)\n",
      "\n",
      "Train Epoch: 9 [0/60000 (0%)]\tLoss: 0.003782\n",
      "Train Epoch: 9 [6400/60000 (11%)]\tLoss: 0.004803\n",
      "Train Epoch: 9 [12800/60000 (21%)]\tLoss: 0.017121\n",
      "Train Epoch: 9 [19200/60000 (32%)]\tLoss: 0.002318\n",
      "Train Epoch: 9 [25600/60000 (43%)]\tLoss: 0.064310\n",
      "Train Epoch: 9 [32000/60000 (53%)]\tLoss: 0.006011\n",
      "Train Epoch: 9 [38400/60000 (64%)]\tLoss: 0.032499\n",
      "Train Epoch: 9 [44800/60000 (75%)]\tLoss: 0.014446\n",
      "Train Epoch: 9 [51200/60000 (85%)]\tLoss: 0.114312\n",
      "Train Epoch: 9 [57600/60000 (96%)]\tLoss: 0.003667\n",
      "\n",
      "Train set: Average loss: 0.0218, Accuracy: 59519/60000 (99.2%)\n",
      "\n",
      "\n",
      "Test set: Average loss: 0.0297, Accuracy: 9914/10000 (99.140%)\n",
      "\n",
      "Train Epoch: 10 [0/60000 (0%)]\tLoss: 0.138840\n",
      "Train Epoch: 10 [6400/60000 (11%)]\tLoss: 0.001478\n",
      "Train Epoch: 10 [12800/60000 (21%)]\tLoss: 0.018959\n",
      "Train Epoch: 10 [19200/60000 (32%)]\tLoss: 0.001155\n",
      "Train Epoch: 10 [25600/60000 (43%)]\tLoss: 0.001213\n",
      "Train Epoch: 10 [32000/60000 (53%)]\tLoss: 0.000664\n",
      "Train Epoch: 10 [38400/60000 (64%)]\tLoss: 0.019906\n",
      "Train Epoch: 10 [44800/60000 (75%)]\tLoss: 0.001010\n",
      "Train Epoch: 10 [51200/60000 (85%)]\tLoss: 0.002684\n",
      "Train Epoch: 10 [57600/60000 (96%)]\tLoss: 0.005493\n",
      "\n",
      "Train set: Average loss: 0.0188, Accuracy: 59570/60000 (99.3%)\n",
      "\n",
      "\n",
      "Test set: Average loss: 0.0331, Accuracy: 9923/10000 (99.230%)\n",
      "\n"
     ]
    }
   ],
   "source": [
    "epochs = 10\n",
    "for epoch in range(1, epochs + 1):\n",
    "    train(cnn, dl_train, optimizer, epoch, log_interval=100)\n",
    "    test(cnn, dl_test)"
   ]
  },
  {
   "cell_type": "markdown",
   "metadata": {},
   "source": [
    "This will probably take a bit longer to train, as a convolutional network is not very efficient on a CPU. The current settings should get you around **99%** accuracy. Nice! \n",
    "Again, you should try different hyperparameters and see how far you can push the performance."
   ]
  },
  {
   "cell_type": "code",
   "execution_count": 125,
   "metadata": {},
   "outputs": [
    {
     "name": "stdout",
     "output_type": "stream",
     "text": [
      "Train Epoch: 1 [0/60000 (0%)]\tLoss: 2.324812\n",
      "Train Epoch: 1 [6400/60000 (11%)]\tLoss: 0.380689\n",
      "Train Epoch: 1 [12800/60000 (21%)]\tLoss: 0.256961\n",
      "Train Epoch: 1 [19200/60000 (32%)]\tLoss: 0.157505\n",
      "Train Epoch: 1 [25600/60000 (43%)]\tLoss: 0.135330\n",
      "Train Epoch: 1 [32000/60000 (53%)]\tLoss: 0.098476\n",
      "Train Epoch: 1 [38400/60000 (64%)]\tLoss: 0.151194\n",
      "Train Epoch: 1 [44800/60000 (75%)]\tLoss: 0.105236\n",
      "Train Epoch: 1 [51200/60000 (85%)]\tLoss: 0.044468\n",
      "Train Epoch: 1 [57600/60000 (96%)]\tLoss: 0.134595\n",
      "\n",
      "Train set: Average loss: 0.0248, Accuracy: 56218/60000 (93.7%)\n",
      "\n",
      "\n",
      "Test set: Average loss: 0.0401, Accuracy: 9862/10000 (98.620%)\n",
      "\n",
      "Train Epoch: 2 [0/60000 (0%)]\tLoss: 0.034590\n",
      "Train Epoch: 2 [6400/60000 (11%)]\tLoss: 0.018948\n",
      "Train Epoch: 2 [12800/60000 (21%)]\tLoss: 0.137802\n",
      "Train Epoch: 2 [19200/60000 (32%)]\tLoss: 0.041644\n",
      "Train Epoch: 2 [25600/60000 (43%)]\tLoss: 0.118398\n",
      "Train Epoch: 2 [32000/60000 (53%)]\tLoss: 0.041493\n",
      "Train Epoch: 2 [38400/60000 (64%)]\tLoss: 0.038957\n",
      "Train Epoch: 2 [44800/60000 (75%)]\tLoss: 0.036096\n",
      "Train Epoch: 2 [51200/60000 (85%)]\tLoss: 0.040235\n",
      "Train Epoch: 2 [57600/60000 (96%)]\tLoss: 0.044996\n",
      "\n",
      "Train set: Average loss: 0.0121, Accuracy: 58443/60000 (97.4%)\n",
      "\n",
      "\n",
      "Test set: Average loss: 0.0454, Accuracy: 9857/10000 (98.570%)\n",
      "\n",
      "Train Epoch: 3 [0/60000 (0%)]\tLoss: 0.105477\n",
      "Train Epoch: 3 [6400/60000 (11%)]\tLoss: 0.036362\n",
      "Train Epoch: 3 [12800/60000 (21%)]\tLoss: 0.085128\n",
      "Train Epoch: 3 [19200/60000 (32%)]\tLoss: 0.018830\n",
      "Train Epoch: 3 [25600/60000 (43%)]\tLoss: 0.036658\n",
      "Train Epoch: 3 [32000/60000 (53%)]\tLoss: 0.085246\n",
      "Train Epoch: 3 [38400/60000 (64%)]\tLoss: 0.118056\n",
      "Train Epoch: 3 [44800/60000 (75%)]\tLoss: 0.010511\n",
      "Train Epoch: 3 [51200/60000 (85%)]\tLoss: 0.016908\n",
      "Train Epoch: 3 [57600/60000 (96%)]\tLoss: 0.045155\n",
      "\n",
      "Train set: Average loss: 0.0221, Accuracy: 58779/60000 (98.0%)\n",
      "\n",
      "\n",
      "Test set: Average loss: 0.0316, Accuracy: 9900/10000 (99.000%)\n",
      "\n",
      "Train Epoch: 4 [0/60000 (0%)]\tLoss: 0.048882\n",
      "Train Epoch: 4 [6400/60000 (11%)]\tLoss: 0.062510\n",
      "Train Epoch: 4 [12800/60000 (21%)]\tLoss: 0.184581\n",
      "Train Epoch: 4 [19200/60000 (32%)]\tLoss: 0.048935\n",
      "Train Epoch: 4 [25600/60000 (43%)]\tLoss: 0.015451\n",
      "Train Epoch: 4 [32000/60000 (53%)]\tLoss: 0.065397\n",
      "Train Epoch: 4 [38400/60000 (64%)]\tLoss: 0.004932\n",
      "Train Epoch: 4 [44800/60000 (75%)]\tLoss: 0.037340\n",
      "Train Epoch: 4 [51200/60000 (85%)]\tLoss: 0.024962\n",
      "Train Epoch: 4 [57600/60000 (96%)]\tLoss: 0.065234\n",
      "\n",
      "Train set: Average loss: 0.1527, Accuracy: 59007/60000 (98.3%)\n",
      "\n",
      "\n",
      "Test set: Average loss: 0.0319, Accuracy: 9900/10000 (99.000%)\n",
      "\n",
      "Train Epoch: 5 [0/60000 (0%)]\tLoss: 0.019051\n",
      "Train Epoch: 5 [6400/60000 (11%)]\tLoss: 0.024778\n",
      "Train Epoch: 5 [12800/60000 (21%)]\tLoss: 0.003740\n",
      "Train Epoch: 5 [19200/60000 (32%)]\tLoss: 0.029928\n",
      "Train Epoch: 5 [25600/60000 (43%)]\tLoss: 0.023516\n",
      "Train Epoch: 5 [32000/60000 (53%)]\tLoss: 0.006066\n",
      "Train Epoch: 5 [38400/60000 (64%)]\tLoss: 0.027992\n",
      "Train Epoch: 5 [44800/60000 (75%)]\tLoss: 0.006925\n",
      "Train Epoch: 5 [51200/60000 (85%)]\tLoss: 0.142764\n",
      "Train Epoch: 5 [57600/60000 (96%)]\tLoss: 0.011859\n",
      "\n",
      "Train set: Average loss: 0.0018, Accuracy: 59091/60000 (98.5%)\n",
      "\n",
      "\n",
      "Test set: Average loss: 0.0402, Accuracy: 9898/10000 (98.980%)\n",
      "\n",
      "Train Epoch: 6 [0/60000 (0%)]\tLoss: 0.029116\n",
      "Train Epoch: 6 [6400/60000 (11%)]\tLoss: 0.048686\n",
      "Train Epoch: 6 [12800/60000 (21%)]\tLoss: 0.008556\n",
      "Train Epoch: 6 [19200/60000 (32%)]\tLoss: 0.001056\n",
      "Train Epoch: 6 [25600/60000 (43%)]\tLoss: 0.031472\n",
      "Train Epoch: 6 [32000/60000 (53%)]\tLoss: 0.068248\n",
      "Train Epoch: 6 [38400/60000 (64%)]\tLoss: 0.069021\n",
      "Train Epoch: 6 [44800/60000 (75%)]\tLoss: 0.012475\n",
      "Train Epoch: 6 [51200/60000 (85%)]\tLoss: 0.029350\n",
      "Train Epoch: 6 [57600/60000 (96%)]\tLoss: 0.002776\n",
      "\n",
      "Train set: Average loss: 0.0391, Accuracy: 59411/60000 (99.0%)\n",
      "\n",
      "\n",
      "Test set: Average loss: 0.0255, Accuracy: 9927/10000 (99.270%)\n",
      "\n",
      "Train Epoch: 7 [0/60000 (0%)]\tLoss: 0.023308\n",
      "Train Epoch: 7 [6400/60000 (11%)]\tLoss: 0.005879\n",
      "Train Epoch: 7 [12800/60000 (21%)]\tLoss: 0.011117\n",
      "Train Epoch: 7 [19200/60000 (32%)]\tLoss: 0.046259\n",
      "Train Epoch: 7 [25600/60000 (43%)]\tLoss: 0.018340\n",
      "Train Epoch: 7 [32000/60000 (53%)]\tLoss: 0.025397\n",
      "Train Epoch: 7 [38400/60000 (64%)]\tLoss: 0.003313\n",
      "Train Epoch: 7 [44800/60000 (75%)]\tLoss: 0.060293\n",
      "Train Epoch: 7 [51200/60000 (85%)]\tLoss: 0.000894\n",
      "Train Epoch: 7 [57600/60000 (96%)]\tLoss: 0.099930\n",
      "\n",
      "Train set: Average loss: 0.0014, Accuracy: 59530/60000 (99.2%)\n",
      "\n",
      "\n",
      "Test set: Average loss: 0.0244, Accuracy: 9931/10000 (99.310%)\n",
      "\n",
      "Train Epoch: 8 [0/60000 (0%)]\tLoss: 0.009980\n",
      "Train Epoch: 8 [6400/60000 (11%)]\tLoss: 0.009949\n",
      "Train Epoch: 8 [12800/60000 (21%)]\tLoss: 0.029506\n",
      "Train Epoch: 8 [19200/60000 (32%)]\tLoss: 0.003431\n",
      "Train Epoch: 8 [25600/60000 (43%)]\tLoss: 0.004681\n",
      "Train Epoch: 8 [32000/60000 (53%)]\tLoss: 0.004339\n",
      "Train Epoch: 8 [38400/60000 (64%)]\tLoss: 0.011269\n",
      "Train Epoch: 8 [44800/60000 (75%)]\tLoss: 0.000099\n",
      "Train Epoch: 8 [51200/60000 (85%)]\tLoss: 0.001858\n",
      "Train Epoch: 8 [57600/60000 (96%)]\tLoss: 0.036008\n",
      "\n",
      "Train set: Average loss: 0.1743, Accuracy: 59583/60000 (99.3%)\n",
      "\n",
      "\n",
      "Test set: Average loss: 0.0232, Accuracy: 9939/10000 (99.390%)\n",
      "\n",
      "Train Epoch: 9 [0/60000 (0%)]\tLoss: 0.040704\n",
      "Train Epoch: 9 [6400/60000 (11%)]\tLoss: 0.054074\n",
      "Train Epoch: 9 [12800/60000 (21%)]\tLoss: 0.001007\n",
      "Train Epoch: 9 [19200/60000 (32%)]\tLoss: 0.009663\n",
      "Train Epoch: 9 [25600/60000 (43%)]\tLoss: 0.007415\n",
      "Train Epoch: 9 [32000/60000 (53%)]\tLoss: 0.000669\n",
      "Train Epoch: 9 [38400/60000 (64%)]\tLoss: 0.043942\n",
      "Train Epoch: 9 [44800/60000 (75%)]\tLoss: 0.000073\n",
      "Train Epoch: 9 [51200/60000 (85%)]\tLoss: 0.215212\n",
      "Train Epoch: 9 [57600/60000 (96%)]\tLoss: 0.000385\n",
      "\n",
      "Train set: Average loss: 0.1023, Accuracy: 59608/60000 (99.3%)\n",
      "\n",
      "\n",
      "Test set: Average loss: 0.0247, Accuracy: 9939/10000 (99.390%)\n",
      "\n",
      "Train Epoch: 10 [0/60000 (0%)]\tLoss: 0.030862\n",
      "Train Epoch: 10 [6400/60000 (11%)]\tLoss: 0.030606\n",
      "Train Epoch: 10 [12800/60000 (21%)]\tLoss: 0.001876\n",
      "Train Epoch: 10 [19200/60000 (32%)]\tLoss: 0.000707\n",
      "Train Epoch: 10 [25600/60000 (43%)]\tLoss: 0.016803\n",
      "Train Epoch: 10 [32000/60000 (53%)]\tLoss: 0.009293\n",
      "Train Epoch: 10 [38400/60000 (64%)]\tLoss: 0.011037\n",
      "Train Epoch: 10 [44800/60000 (75%)]\tLoss: 0.004354\n",
      "Train Epoch: 10 [51200/60000 (85%)]\tLoss: 0.005274\n",
      "Train Epoch: 10 [57600/60000 (96%)]\tLoss: 0.000954\n",
      "\n",
      "Train set: Average loss: 0.0000, Accuracy: 59684/60000 (99.5%)\n",
      "\n",
      "\n",
      "Test set: Average loss: 0.0238, Accuracy: 9936/10000 (99.360%)\n",
      "\n",
      "Train Epoch: 11 [0/60000 (0%)]\tLoss: 0.003243\n",
      "Train Epoch: 11 [6400/60000 (11%)]\tLoss: 0.009207\n",
      "Train Epoch: 11 [12800/60000 (21%)]\tLoss: 0.009760\n",
      "Train Epoch: 11 [19200/60000 (32%)]\tLoss: 0.023910\n",
      "Train Epoch: 11 [25600/60000 (43%)]\tLoss: 0.032787\n",
      "Train Epoch: 11 [32000/60000 (53%)]\tLoss: 0.008720\n",
      "Train Epoch: 11 [38400/60000 (64%)]\tLoss: 0.002081\n",
      "Train Epoch: 11 [44800/60000 (75%)]\tLoss: 0.013149\n",
      "Train Epoch: 11 [51200/60000 (85%)]\tLoss: 0.009342\n",
      "Train Epoch: 11 [57600/60000 (96%)]\tLoss: 0.012993\n",
      "\n",
      "Train set: Average loss: 0.0076, Accuracy: 59667/60000 (99.4%)\n",
      "\n",
      "\n",
      "Test set: Average loss: 0.0234, Accuracy: 9935/10000 (99.350%)\n",
      "\n",
      "Train Epoch: 12 [0/60000 (0%)]\tLoss: 0.002550\n",
      "Train Epoch: 12 [6400/60000 (11%)]\tLoss: 0.001812\n",
      "Train Epoch: 12 [12800/60000 (21%)]\tLoss: 0.006265\n",
      "Train Epoch: 12 [19200/60000 (32%)]\tLoss: 0.002340\n",
      "Train Epoch: 12 [25600/60000 (43%)]\tLoss: 0.000373\n",
      "Train Epoch: 12 [32000/60000 (53%)]\tLoss: 0.001120\n",
      "Train Epoch: 12 [38400/60000 (64%)]\tLoss: 0.004308\n",
      "Train Epoch: 12 [44800/60000 (75%)]\tLoss: 0.000706\n",
      "Train Epoch: 12 [51200/60000 (85%)]\tLoss: 0.002154\n",
      "Train Epoch: 12 [57600/60000 (96%)]\tLoss: 0.001695\n",
      "\n",
      "Train set: Average loss: 0.0111, Accuracy: 59700/60000 (99.5%)\n",
      "\n",
      "\n",
      "Test set: Average loss: 0.0234, Accuracy: 9936/10000 (99.360%)\n",
      "\n",
      "Train Epoch: 13 [0/60000 (0%)]\tLoss: 0.004875\n",
      "Train Epoch: 13 [6400/60000 (11%)]\tLoss: 0.013246\n",
      "Train Epoch: 13 [12800/60000 (21%)]\tLoss: 0.001794\n",
      "Train Epoch: 13 [19200/60000 (32%)]\tLoss: 0.118155\n",
      "Train Epoch: 13 [25600/60000 (43%)]\tLoss: 0.010477\n",
      "Train Epoch: 13 [32000/60000 (53%)]\tLoss: 0.006601\n",
      "Train Epoch: 13 [38400/60000 (64%)]\tLoss: 0.008630\n",
      "Train Epoch: 13 [44800/60000 (75%)]\tLoss: 0.022010\n",
      "Train Epoch: 13 [51200/60000 (85%)]\tLoss: 0.000294\n",
      "Train Epoch: 13 [57600/60000 (96%)]\tLoss: 0.001809\n",
      "\n",
      "Train set: Average loss: 0.0002, Accuracy: 59696/60000 (99.5%)\n",
      "\n",
      "\n",
      "Test set: Average loss: 0.0232, Accuracy: 9935/10000 (99.350%)\n",
      "\n",
      "Train Epoch: 14 [0/60000 (0%)]\tLoss: 0.000760\n",
      "Train Epoch: 14 [6400/60000 (11%)]\tLoss: 0.003968\n",
      "Train Epoch: 14 [12800/60000 (21%)]\tLoss: 0.001280\n",
      "Train Epoch: 14 [19200/60000 (32%)]\tLoss: 0.000193\n",
      "Train Epoch: 14 [25600/60000 (43%)]\tLoss: 0.001770\n",
      "Train Epoch: 14 [32000/60000 (53%)]\tLoss: 0.048972\n",
      "Train Epoch: 14 [38400/60000 (64%)]\tLoss: 0.002032\n",
      "Train Epoch: 14 [44800/60000 (75%)]\tLoss: 0.049603\n",
      "Train Epoch: 14 [51200/60000 (85%)]\tLoss: 0.009117\n",
      "Train Epoch: 14 [57600/60000 (96%)]\tLoss: 0.000807\n",
      "\n",
      "Train set: Average loss: 0.0020, Accuracy: 59716/60000 (99.5%)\n",
      "\n",
      "\n",
      "Test set: Average loss: 0.0234, Accuracy: 9936/10000 (99.360%)\n",
      "\n",
      "Train Epoch: 15 [0/60000 (0%)]\tLoss: 0.008949\n",
      "Train Epoch: 15 [6400/60000 (11%)]\tLoss: 0.002764\n",
      "Train Epoch: 15 [12800/60000 (21%)]\tLoss: 0.040607\n",
      "Train Epoch: 15 [19200/60000 (32%)]\tLoss: 0.003992\n",
      "Train Epoch: 15 [25600/60000 (43%)]\tLoss: 0.011641\n",
      "Train Epoch: 15 [32000/60000 (53%)]\tLoss: 0.003213\n",
      "Train Epoch: 15 [38400/60000 (64%)]\tLoss: 0.001724\n",
      "Train Epoch: 15 [44800/60000 (75%)]\tLoss: 0.000331\n",
      "Train Epoch: 15 [51200/60000 (85%)]\tLoss: 0.000704\n",
      "Train Epoch: 15 [57600/60000 (96%)]\tLoss: 0.002445\n",
      "\n",
      "Train set: Average loss: 0.0037, Accuracy: 59704/60000 (99.5%)\n",
      "\n",
      "\n",
      "Test set: Average loss: 0.0234, Accuracy: 9937/10000 (99.370%)\n",
      "\n"
     ]
    }
   ],
   "source": [
    "cnn = CNN()\n",
    "optimizer = optim.Adam(cnn.parameters())\n",
    "scheduler = torch.optim.lr_scheduler.StepLR(optimizer, step_size=5, gamma=0.1)\n",
    "\n",
    "epochs = 15\n",
    "for epoch in range(1, epochs + 1):\n",
    "    train(cnn, dl_train, optimizer, epoch, log_interval=100)\n",
    "    test(cnn, dl_test)\n",
    "    scheduler.step()"
   ]
  },
  {
   "cell_type": "markdown",
   "metadata": {},
   "source": [
    "### Inline Question\n",
    "\n",
    "If your model weight is randomly initalized, and no training is done as above. What accuracy do you think the model will get for a 10-class classification task in theory?\n",
    "\n",
    "**Your answer**: \n",
    "\n",
    "Since all weights are random the result class will be independent of the input's\n",
    "class. This way, in theory there's _p_ = 0.1 probability for a correct answer,\n",
    "which means 10% accuracy.\n"
   ]
  },
  {
   "cell_type": "markdown",
   "metadata": {},
   "source": [
    "## Training on CIFAR10\n",
    "\n",
    "Now we are going to move to something more challenging - CIFAR10. We can reuse most of the code above. Thankfully, CIFAR is also a popular dataset, so we can again make use of a PyTorch convience function."
   ]
  },
  {
   "cell_type": "code",
   "execution_count": 126,
   "metadata": {},
   "outputs": [
    {
     "name": "stdout",
     "output_type": "stream",
     "text": [
      "Downloading https://www.cs.toronto.edu/~kriz/cifar-10-python.tar.gz to ./data/cifar-10-python.tar.gz\n"
     ]
    },
    {
     "data": {
      "application/vnd.jupyter.widget-view+json": {
       "model_id": "c8e1a38679a74e45a66f7bc1d03eb905",
       "version_major": 2,
       "version_minor": 0
      },
      "text/plain": [
       "  0%|          | 0/170498071 [00:00<?, ?it/s]"
      ]
     },
     "metadata": {},
     "output_type": "display_data"
    },
    {
     "name": "stdout",
     "output_type": "stream",
     "text": [
      "Extracting ./data/cifar-10-python.tar.gz to ./data\n"
     ]
    }
   ],
   "source": [
    "ds_train = datasets.CIFAR10(root='./data', train=True, download=True)"
   ]
  },
  {
   "cell_type": "markdown",
   "metadata": {},
   "source": [
    "This dataset is not normalized yet, so we need to calculate the normalization constants."
   ]
  },
  {
   "cell_type": "code",
   "execution_count": 127,
   "metadata": {},
   "outputs": [],
   "source": [
    "ims_train = torch.tensor(ds_train.data)\n",
    "ims_train = ims_train.float() / 255."
   ]
  },
  {
   "cell_type": "code",
   "execution_count": null,
   "metadata": {},
   "outputs": [],
   "source": [
    "ims_train.std((0,1,2))"
   ]
  },
  {
   "cell_type": "code",
   "execution_count": 130,
   "metadata": {},
   "outputs": [
    {
     "data": {
      "text/plain": [
       "(tensor([0.2470, 0.2435, 0.2616]), tensor([0.4914, 0.4822, 0.4465]))"
      ]
     },
     "execution_count": 130,
     "metadata": {},
     "output_type": "execute_result"
    }
   ],
   "source": [
    "#########################################################################\n",
    "# TODO: calculate the mean and std of CIFAR\n",
    "# hint: We want the mean and std of the channel dimension, these should\n",
    "# be 3 dimensional\n",
    "#########################################################################\n",
    "mu, std = torch.std_mean(ims_train, dim=(0,1,2))\n"
   ]
  },
  {
   "cell_type": "code",
   "execution_count": 129,
   "metadata": {},
   "outputs": [
    {
     "data": {
      "text/plain": [
       "tensor([0.4914, 0.4822, 0.4465])"
      ]
     },
     "execution_count": 129,
     "metadata": {},
     "output_type": "execute_result"
    }
   ],
   "source": [
    "torch.mean(ims_train, dim=(0,1,2))"
   ]
  },
  {
   "cell_type": "markdown",
   "metadata": {},
   "source": [
    "For CIFAR we want to make use of data augmentation to improve generalization. You will find all data augmentations data are included in torchvision here:\n",
    "\n",
    "https://pytorch.org/docs/stable/torchvision/transforms.html"
   ]
  },
  {
   "cell_type": "code",
   "execution_count": 133,
   "metadata": {},
   "outputs": [
    {
     "name": "stdout",
     "output_type": "stream",
     "text": [
      "Files already downloaded and verified\n",
      "Files already downloaded and verified\n"
     ]
    }
   ],
   "source": [
    "BATCH_SIZE = 128\n",
    "NUM_WORKERS = 4 # if you encounter some unexpected errors in data loading, try setting `NUM_WORKERS = 0`\n",
    "#########################################################################\n",
    "# TODO: Implement the proper transforms for the training and test dataloaders. \n",
    "# Then build train and test dataloaders with batch size 128 and 4 workers\n",
    "#\n",
    "# Train: \n",
    "# - Apply a random crop with size 32 on a padded version of the image with P=4\n",
    "# - Flip the image horizontally with a probability of 40 %\n",
    "# - Transform to a Tensor\n",
    "# - Normalize with the constants calculated above\n",
    "# Test: \n",
    "# - Transform to a Tensor\n",
    "# - Normalize with the constants calculated above\n",
    "#########################################################################\n",
    "transform_train = transforms.Compose([\n",
    "    transforms.RandomCrop(32, padding=4),\n",
    "    transforms.RandomHorizontalFlip(p=0.4),\n",
    "    transforms.ToTensor(),\n",
    "    transforms.Normalize(mu, std)\n",
    "])\n",
    "transform_test = transforms.Compose([\n",
    "    transforms.ToTensor(),\n",
    "    transforms.Normalize(mu, std)\n",
    "])\n",
    "\n",
    "ds_train = datasets.CIFAR10('./data', train=True, download=True, transform=transform_train)\n",
    "ds_test = datasets.CIFAR10('./data', train=False, download=True, transform=transform_test)\n",
    "\n",
    "dl_train = DataLoader(\n",
    "    ds_train,\n",
    "    batch_size=BATCH_SIZE,\n",
    "    num_workers=NUM_WORKERS,\n",
    "    shuffle=True\n",
    ")\n",
    "\n",
    "dl_test = DataLoader(\n",
    "    ds_test,\n",
    "    batch_size=BATCH_SIZE,\n",
    "    num_workers=NUM_WORKERS,\n",
    "    shuffle=False\n",
    ")"
   ]
  },
  {
   "cell_type": "markdown",
   "metadata": {},
   "source": [
    "Setting up the  optimizer, this time we use SGD. The scheduler adapts the learning rate during traing (you can ignore it)"
   ]
  },
  {
   "cell_type": "code",
   "execution_count": 134,
   "metadata": {},
   "outputs": [],
   "source": [
    "cnn = CNN()\n",
    "optimizer = optim.SGD(cnn.parameters(), lr=0.1, momentum=0.9, weight_decay=5e-4)\n",
    "scheduler = torch.optim.lr_scheduler.CosineAnnealingLR(optimizer, T_max=200)"
   ]
  },
  {
   "cell_type": "code",
   "execution_count": 135,
   "metadata": {
    "scrolled": true
   },
   "outputs": [
    {
     "ename": "RuntimeError",
     "evalue": "Given groups=1, weight of size [32, 1, 3, 3], expected input[128, 3, 32, 32] to have 1 channels, but got 3 channels instead",
     "output_type": "error",
     "traceback": [
      "\u001b[0;31m---------------------------------------------------------------------------\u001b[0m",
      "\u001b[0;31mRuntimeError\u001b[0m                              Traceback (most recent call last)",
      "Cell \u001b[0;32mIn [135], line 3\u001b[0m\n\u001b[1;32m      1\u001b[0m epochs \u001b[38;5;241m=\u001b[39m \u001b[38;5;241m5\u001b[39m\n\u001b[1;32m      2\u001b[0m \u001b[38;5;28;01mfor\u001b[39;00m epoch \u001b[38;5;129;01min\u001b[39;00m \u001b[38;5;28mrange\u001b[39m(\u001b[38;5;241m1\u001b[39m, epochs \u001b[38;5;241m+\u001b[39m \u001b[38;5;241m1\u001b[39m):\n\u001b[0;32m----> 3\u001b[0m     \u001b[43mtrain\u001b[49m\u001b[43m(\u001b[49m\u001b[43mcnn\u001b[49m\u001b[43m,\u001b[49m\u001b[43m \u001b[49m\u001b[43mdl_train\u001b[49m\u001b[43m,\u001b[49m\u001b[43m \u001b[49m\u001b[43moptimizer\u001b[49m\u001b[43m,\u001b[49m\u001b[43m \u001b[49m\u001b[43mepoch\u001b[49m\u001b[43m,\u001b[49m\u001b[43m \u001b[49m\u001b[43mlog_interval\u001b[49m\u001b[38;5;241;43m=\u001b[39;49m\u001b[38;5;241;43m100\u001b[39;49m\u001b[43m)\u001b[49m\n\u001b[1;32m      4\u001b[0m     test(cnn, dl_test)    \n\u001b[1;32m      5\u001b[0m     scheduler\u001b[38;5;241m.\u001b[39mstep()\n",
      "Cell \u001b[0;32mIn [96], line 17\u001b[0m, in \u001b[0;36mtrain\u001b[0;34m(model, dl_train, optimizer, epoch, log_interval, device)\u001b[0m\n\u001b[1;32m     14\u001b[0m optimizer\u001b[38;5;241m.\u001b[39mzero_grad()         \n\u001b[1;32m     16\u001b[0m \u001b[38;5;66;03m##### implement this part #####\u001b[39;00m\n\u001b[0;32m---> 17\u001b[0m output \u001b[38;5;241m=\u001b[39m \u001b[43mmodel\u001b[49m\u001b[43m(\u001b[49m\u001b[43mdata\u001b[49m\u001b[43m)\u001b[49m        \n\u001b[1;32m     18\u001b[0m loss \u001b[38;5;241m=\u001b[39m F\u001b[38;5;241m.\u001b[39mcross_entropy(output, target, reduction\u001b[38;5;241m=\u001b[39m\u001b[38;5;124m'\u001b[39m\u001b[38;5;124mmean\u001b[39m\u001b[38;5;124m'\u001b[39m)\n\u001b[1;32m     19\u001b[0m loss\u001b[38;5;241m.\u001b[39mbackward()\n",
      "File \u001b[0;32m~/miniconda3/envs/dl4cv/lib/python3.9/site-packages/torch/nn/modules/module.py:1051\u001b[0m, in \u001b[0;36mModule._call_impl\u001b[0;34m(self, *input, **kwargs)\u001b[0m\n\u001b[1;32m   1047\u001b[0m \u001b[39m# If we don't have any hooks, we want to skip the rest of the logic in\u001b[39;00m\n\u001b[1;32m   1048\u001b[0m \u001b[39m# this function, and just call forward.\u001b[39;00m\n\u001b[1;32m   1049\u001b[0m \u001b[39mif\u001b[39;00m \u001b[39mnot\u001b[39;00m (\u001b[39mself\u001b[39m\u001b[39m.\u001b[39m_backward_hooks \u001b[39mor\u001b[39;00m \u001b[39mself\u001b[39m\u001b[39m.\u001b[39m_forward_hooks \u001b[39mor\u001b[39;00m \u001b[39mself\u001b[39m\u001b[39m.\u001b[39m_forward_pre_hooks \u001b[39mor\u001b[39;00m _global_backward_hooks\n\u001b[1;32m   1050\u001b[0m         \u001b[39mor\u001b[39;00m _global_forward_hooks \u001b[39mor\u001b[39;00m _global_forward_pre_hooks):\n\u001b[0;32m-> 1051\u001b[0m     \u001b[39mreturn\u001b[39;00m forward_call(\u001b[39m*\u001b[39;49m\u001b[39minput\u001b[39;49m, \u001b[39m*\u001b[39;49m\u001b[39m*\u001b[39;49mkwargs)\n\u001b[1;32m   1052\u001b[0m \u001b[39m# Do not call functions when jit is used\u001b[39;00m\n\u001b[1;32m   1053\u001b[0m full_backward_hooks, non_full_backward_hooks \u001b[39m=\u001b[39m [], []\n",
      "Cell \u001b[0;32mIn [104], line 25\u001b[0m, in \u001b[0;36mCNN.forward\u001b[0;34m(self, x)\u001b[0m\n\u001b[1;32m     24\u001b[0m \u001b[38;5;28;01mdef\u001b[39;00m \u001b[38;5;21mforward\u001b[39m(\u001b[38;5;28mself\u001b[39m, x):\n\u001b[0;32m---> 25\u001b[0m     \u001b[38;5;28;01mreturn\u001b[39;00m \u001b[38;5;28;43mself\u001b[39;49m\u001b[38;5;241;43m.\u001b[39;49m\u001b[43mmodel\u001b[49m\u001b[43m(\u001b[49m\u001b[43mx\u001b[49m\u001b[43m)\u001b[49m\n",
      "File \u001b[0;32m~/miniconda3/envs/dl4cv/lib/python3.9/site-packages/torch/nn/modules/module.py:1051\u001b[0m, in \u001b[0;36mModule._call_impl\u001b[0;34m(self, *input, **kwargs)\u001b[0m\n\u001b[1;32m   1047\u001b[0m \u001b[39m# If we don't have any hooks, we want to skip the rest of the logic in\u001b[39;00m\n\u001b[1;32m   1048\u001b[0m \u001b[39m# this function, and just call forward.\u001b[39;00m\n\u001b[1;32m   1049\u001b[0m \u001b[39mif\u001b[39;00m \u001b[39mnot\u001b[39;00m (\u001b[39mself\u001b[39m\u001b[39m.\u001b[39m_backward_hooks \u001b[39mor\u001b[39;00m \u001b[39mself\u001b[39m\u001b[39m.\u001b[39m_forward_hooks \u001b[39mor\u001b[39;00m \u001b[39mself\u001b[39m\u001b[39m.\u001b[39m_forward_pre_hooks \u001b[39mor\u001b[39;00m _global_backward_hooks\n\u001b[1;32m   1050\u001b[0m         \u001b[39mor\u001b[39;00m _global_forward_hooks \u001b[39mor\u001b[39;00m _global_forward_pre_hooks):\n\u001b[0;32m-> 1051\u001b[0m     \u001b[39mreturn\u001b[39;00m forward_call(\u001b[39m*\u001b[39;49m\u001b[39minput\u001b[39;49m, \u001b[39m*\u001b[39;49m\u001b[39m*\u001b[39;49mkwargs)\n\u001b[1;32m   1052\u001b[0m \u001b[39m# Do not call functions when jit is used\u001b[39;00m\n\u001b[1;32m   1053\u001b[0m full_backward_hooks, non_full_backward_hooks \u001b[39m=\u001b[39m [], []\n",
      "File \u001b[0;32m~/miniconda3/envs/dl4cv/lib/python3.9/site-packages/torch/nn/modules/container.py:139\u001b[0m, in \u001b[0;36mSequential.forward\u001b[0;34m(self, input)\u001b[0m\n\u001b[1;32m    137\u001b[0m \u001b[39mdef\u001b[39;00m \u001b[39mforward\u001b[39m(\u001b[39mself\u001b[39m, \u001b[39minput\u001b[39m):\n\u001b[1;32m    138\u001b[0m     \u001b[39mfor\u001b[39;00m module \u001b[39min\u001b[39;00m \u001b[39mself\u001b[39m:\n\u001b[0;32m--> 139\u001b[0m         \u001b[39minput\u001b[39m \u001b[39m=\u001b[39m module(\u001b[39minput\u001b[39;49m)\n\u001b[1;32m    140\u001b[0m     \u001b[39mreturn\u001b[39;00m \u001b[39minput\u001b[39m\n",
      "File \u001b[0;32m~/miniconda3/envs/dl4cv/lib/python3.9/site-packages/torch/nn/modules/module.py:1051\u001b[0m, in \u001b[0;36mModule._call_impl\u001b[0;34m(self, *input, **kwargs)\u001b[0m\n\u001b[1;32m   1047\u001b[0m \u001b[39m# If we don't have any hooks, we want to skip the rest of the logic in\u001b[39;00m\n\u001b[1;32m   1048\u001b[0m \u001b[39m# this function, and just call forward.\u001b[39;00m\n\u001b[1;32m   1049\u001b[0m \u001b[39mif\u001b[39;00m \u001b[39mnot\u001b[39;00m (\u001b[39mself\u001b[39m\u001b[39m.\u001b[39m_backward_hooks \u001b[39mor\u001b[39;00m \u001b[39mself\u001b[39m\u001b[39m.\u001b[39m_forward_hooks \u001b[39mor\u001b[39;00m \u001b[39mself\u001b[39m\u001b[39m.\u001b[39m_forward_pre_hooks \u001b[39mor\u001b[39;00m _global_backward_hooks\n\u001b[1;32m   1050\u001b[0m         \u001b[39mor\u001b[39;00m _global_forward_hooks \u001b[39mor\u001b[39;00m _global_forward_pre_hooks):\n\u001b[0;32m-> 1051\u001b[0m     \u001b[39mreturn\u001b[39;00m forward_call(\u001b[39m*\u001b[39;49m\u001b[39minput\u001b[39;49m, \u001b[39m*\u001b[39;49m\u001b[39m*\u001b[39;49mkwargs)\n\u001b[1;32m   1052\u001b[0m \u001b[39m# Do not call functions when jit is used\u001b[39;00m\n\u001b[1;32m   1053\u001b[0m full_backward_hooks, non_full_backward_hooks \u001b[39m=\u001b[39m [], []\n",
      "File \u001b[0;32m~/miniconda3/envs/dl4cv/lib/python3.9/site-packages/torch/nn/modules/conv.py:443\u001b[0m, in \u001b[0;36mConv2d.forward\u001b[0;34m(self, input)\u001b[0m\n\u001b[1;32m    442\u001b[0m \u001b[39mdef\u001b[39;00m \u001b[39mforward\u001b[39m(\u001b[39mself\u001b[39m, \u001b[39minput\u001b[39m: Tensor) \u001b[39m-\u001b[39m\u001b[39m>\u001b[39m Tensor:\n\u001b[0;32m--> 443\u001b[0m     \u001b[39mreturn\u001b[39;00m \u001b[39mself\u001b[39;49m\u001b[39m.\u001b[39;49m_conv_forward(\u001b[39minput\u001b[39;49m, \u001b[39mself\u001b[39;49m\u001b[39m.\u001b[39;49mweight, \u001b[39mself\u001b[39;49m\u001b[39m.\u001b[39;49mbias)\n",
      "File \u001b[0;32m~/miniconda3/envs/dl4cv/lib/python3.9/site-packages/torch/nn/modules/conv.py:439\u001b[0m, in \u001b[0;36mConv2d._conv_forward\u001b[0;34m(self, input, weight, bias)\u001b[0m\n\u001b[1;32m    435\u001b[0m \u001b[39mif\u001b[39;00m \u001b[39mself\u001b[39m\u001b[39m.\u001b[39mpadding_mode \u001b[39m!=\u001b[39m \u001b[39m'\u001b[39m\u001b[39mzeros\u001b[39m\u001b[39m'\u001b[39m:\n\u001b[1;32m    436\u001b[0m     \u001b[39mreturn\u001b[39;00m F\u001b[39m.\u001b[39mconv2d(F\u001b[39m.\u001b[39mpad(\u001b[39minput\u001b[39m, \u001b[39mself\u001b[39m\u001b[39m.\u001b[39m_reversed_padding_repeated_twice, mode\u001b[39m=\u001b[39m\u001b[39mself\u001b[39m\u001b[39m.\u001b[39mpadding_mode),\n\u001b[1;32m    437\u001b[0m                     weight, bias, \u001b[39mself\u001b[39m\u001b[39m.\u001b[39mstride,\n\u001b[1;32m    438\u001b[0m                     _pair(\u001b[39m0\u001b[39m), \u001b[39mself\u001b[39m\u001b[39m.\u001b[39mdilation, \u001b[39mself\u001b[39m\u001b[39m.\u001b[39mgroups)\n\u001b[0;32m--> 439\u001b[0m \u001b[39mreturn\u001b[39;00m F\u001b[39m.\u001b[39;49mconv2d(\u001b[39minput\u001b[39;49m, weight, bias, \u001b[39mself\u001b[39;49m\u001b[39m.\u001b[39;49mstride,\n\u001b[1;32m    440\u001b[0m                 \u001b[39mself\u001b[39;49m\u001b[39m.\u001b[39;49mpadding, \u001b[39mself\u001b[39;49m\u001b[39m.\u001b[39;49mdilation, \u001b[39mself\u001b[39;49m\u001b[39m.\u001b[39;49mgroups)\n",
      "\u001b[0;31mRuntimeError\u001b[0m: Given groups=1, weight of size [32, 1, 3, 3], expected input[128, 3, 32, 32] to have 1 channels, but got 3 channels instead"
     ]
    }
   ],
   "source": [
    "epochs = 5\n",
    "for epoch in range(1, epochs + 1):\n",
    "    train(cnn, dl_train, optimizer, epoch, log_interval=100)\n",
    "    test(cnn, dl_test)    \n",
    "    scheduler.step()"
   ]
  },
  {
   "cell_type": "markdown",
   "metadata": {},
   "source": [
    "This will not work. You should see the following error message\n",
    "\n",
    "```\n",
    "Given groups=1, weight of size [32, 1, 3, 3], expected input[128, 3, 32, 32] to have 1 channels, but got 3 channels instead\n",
    "```\n",
    "\n",
    "This error is telling us that something is not right in the definition of our model. Copy the CNN class from above and make changes, so the training works."
   ]
  },
  {
   "cell_type": "code",
   "execution_count": 137,
   "metadata": {},
   "outputs": [
    {
     "ename": "RuntimeError",
     "evalue": "mat1 and mat2 shapes cannot be multiplied (1x12544 and 9216x128)",
     "output_type": "error",
     "traceback": [
      "\u001b[0;31m---------------------------------------------------------------------------\u001b[0m",
      "\u001b[0;31mRuntimeError\u001b[0m                              Traceback (most recent call last)",
      "Cell \u001b[0;32mIn [137], line 29\u001b[0m\n\u001b[1;32m     26\u001b[0m     \u001b[38;5;28;01mdef\u001b[39;00m \u001b[38;5;21mforward\u001b[39m(\u001b[38;5;28mself\u001b[39m, x):\n\u001b[1;32m     27\u001b[0m         \u001b[38;5;28;01mreturn\u001b[39;00m \u001b[38;5;28mself\u001b[39m\u001b[38;5;241m.\u001b[39mmodel(x)\n\u001b[0;32m---> 29\u001b[0m \u001b[43mCNN\u001b[49m\u001b[43m(\u001b[49m\u001b[43m)\u001b[49m\u001b[43m(\u001b[49m\u001b[43mtorch\u001b[49m\u001b[38;5;241;43m.\u001b[39;49m\u001b[43mrandn\u001b[49m\u001b[43m(\u001b[49m\u001b[38;5;241;43m1\u001b[39;49m\u001b[43m,\u001b[49m\u001b[38;5;241;43m3\u001b[39;49m\u001b[43m,\u001b[49m\u001b[38;5;241;43m32\u001b[39;49m\u001b[43m,\u001b[49m\u001b[38;5;241;43m32\u001b[39;49m\u001b[43m)\u001b[49m\u001b[43m)\u001b[49m\u001b[38;5;241m.\u001b[39mshape\n",
      "File \u001b[0;32m~/miniconda3/envs/dl4cv/lib/python3.9/site-packages/torch/nn/modules/module.py:1051\u001b[0m, in \u001b[0;36mModule._call_impl\u001b[0;34m(self, *input, **kwargs)\u001b[0m\n\u001b[1;32m   1047\u001b[0m \u001b[39m# If we don't have any hooks, we want to skip the rest of the logic in\u001b[39;00m\n\u001b[1;32m   1048\u001b[0m \u001b[39m# this function, and just call forward.\u001b[39;00m\n\u001b[1;32m   1049\u001b[0m \u001b[39mif\u001b[39;00m \u001b[39mnot\u001b[39;00m (\u001b[39mself\u001b[39m\u001b[39m.\u001b[39m_backward_hooks \u001b[39mor\u001b[39;00m \u001b[39mself\u001b[39m\u001b[39m.\u001b[39m_forward_hooks \u001b[39mor\u001b[39;00m \u001b[39mself\u001b[39m\u001b[39m.\u001b[39m_forward_pre_hooks \u001b[39mor\u001b[39;00m _global_backward_hooks\n\u001b[1;32m   1050\u001b[0m         \u001b[39mor\u001b[39;00m _global_forward_hooks \u001b[39mor\u001b[39;00m _global_forward_pre_hooks):\n\u001b[0;32m-> 1051\u001b[0m     \u001b[39mreturn\u001b[39;00m forward_call(\u001b[39m*\u001b[39;49m\u001b[39minput\u001b[39;49m, \u001b[39m*\u001b[39;49m\u001b[39m*\u001b[39;49mkwargs)\n\u001b[1;32m   1052\u001b[0m \u001b[39m# Do not call functions when jit is used\u001b[39;00m\n\u001b[1;32m   1053\u001b[0m full_backward_hooks, non_full_backward_hooks \u001b[39m=\u001b[39m [], []\n",
      "Cell \u001b[0;32mIn [137], line 27\u001b[0m, in \u001b[0;36mCNN.forward\u001b[0;34m(self, x)\u001b[0m\n\u001b[1;32m     26\u001b[0m \u001b[38;5;28;01mdef\u001b[39;00m \u001b[38;5;21mforward\u001b[39m(\u001b[38;5;28mself\u001b[39m, x):\n\u001b[0;32m---> 27\u001b[0m     \u001b[38;5;28;01mreturn\u001b[39;00m \u001b[38;5;28;43mself\u001b[39;49m\u001b[38;5;241;43m.\u001b[39;49m\u001b[43mmodel\u001b[49m\u001b[43m(\u001b[49m\u001b[43mx\u001b[49m\u001b[43m)\u001b[49m\n",
      "File \u001b[0;32m~/miniconda3/envs/dl4cv/lib/python3.9/site-packages/torch/nn/modules/module.py:1051\u001b[0m, in \u001b[0;36mModule._call_impl\u001b[0;34m(self, *input, **kwargs)\u001b[0m\n\u001b[1;32m   1047\u001b[0m \u001b[39m# If we don't have any hooks, we want to skip the rest of the logic in\u001b[39;00m\n\u001b[1;32m   1048\u001b[0m \u001b[39m# this function, and just call forward.\u001b[39;00m\n\u001b[1;32m   1049\u001b[0m \u001b[39mif\u001b[39;00m \u001b[39mnot\u001b[39;00m (\u001b[39mself\u001b[39m\u001b[39m.\u001b[39m_backward_hooks \u001b[39mor\u001b[39;00m \u001b[39mself\u001b[39m\u001b[39m.\u001b[39m_forward_hooks \u001b[39mor\u001b[39;00m \u001b[39mself\u001b[39m\u001b[39m.\u001b[39m_forward_pre_hooks \u001b[39mor\u001b[39;00m _global_backward_hooks\n\u001b[1;32m   1050\u001b[0m         \u001b[39mor\u001b[39;00m _global_forward_hooks \u001b[39mor\u001b[39;00m _global_forward_pre_hooks):\n\u001b[0;32m-> 1051\u001b[0m     \u001b[39mreturn\u001b[39;00m forward_call(\u001b[39m*\u001b[39;49m\u001b[39minput\u001b[39;49m, \u001b[39m*\u001b[39;49m\u001b[39m*\u001b[39;49mkwargs)\n\u001b[1;32m   1052\u001b[0m \u001b[39m# Do not call functions when jit is used\u001b[39;00m\n\u001b[1;32m   1053\u001b[0m full_backward_hooks, non_full_backward_hooks \u001b[39m=\u001b[39m [], []\n",
      "File \u001b[0;32m~/miniconda3/envs/dl4cv/lib/python3.9/site-packages/torch/nn/modules/container.py:139\u001b[0m, in \u001b[0;36mSequential.forward\u001b[0;34m(self, input)\u001b[0m\n\u001b[1;32m    137\u001b[0m \u001b[39mdef\u001b[39;00m \u001b[39mforward\u001b[39m(\u001b[39mself\u001b[39m, \u001b[39minput\u001b[39m):\n\u001b[1;32m    138\u001b[0m     \u001b[39mfor\u001b[39;00m module \u001b[39min\u001b[39;00m \u001b[39mself\u001b[39m:\n\u001b[0;32m--> 139\u001b[0m         \u001b[39minput\u001b[39m \u001b[39m=\u001b[39m module(\u001b[39minput\u001b[39;49m)\n\u001b[1;32m    140\u001b[0m     \u001b[39mreturn\u001b[39;00m \u001b[39minput\u001b[39m\n",
      "File \u001b[0;32m~/miniconda3/envs/dl4cv/lib/python3.9/site-packages/torch/nn/modules/module.py:1051\u001b[0m, in \u001b[0;36mModule._call_impl\u001b[0;34m(self, *input, **kwargs)\u001b[0m\n\u001b[1;32m   1047\u001b[0m \u001b[39m# If we don't have any hooks, we want to skip the rest of the logic in\u001b[39;00m\n\u001b[1;32m   1048\u001b[0m \u001b[39m# this function, and just call forward.\u001b[39;00m\n\u001b[1;32m   1049\u001b[0m \u001b[39mif\u001b[39;00m \u001b[39mnot\u001b[39;00m (\u001b[39mself\u001b[39m\u001b[39m.\u001b[39m_backward_hooks \u001b[39mor\u001b[39;00m \u001b[39mself\u001b[39m\u001b[39m.\u001b[39m_forward_hooks \u001b[39mor\u001b[39;00m \u001b[39mself\u001b[39m\u001b[39m.\u001b[39m_forward_pre_hooks \u001b[39mor\u001b[39;00m _global_backward_hooks\n\u001b[1;32m   1050\u001b[0m         \u001b[39mor\u001b[39;00m _global_forward_hooks \u001b[39mor\u001b[39;00m _global_forward_pre_hooks):\n\u001b[0;32m-> 1051\u001b[0m     \u001b[39mreturn\u001b[39;00m forward_call(\u001b[39m*\u001b[39;49m\u001b[39minput\u001b[39;49m, \u001b[39m*\u001b[39;49m\u001b[39m*\u001b[39;49mkwargs)\n\u001b[1;32m   1052\u001b[0m \u001b[39m# Do not call functions when jit is used\u001b[39;00m\n\u001b[1;32m   1053\u001b[0m full_backward_hooks, non_full_backward_hooks \u001b[39m=\u001b[39m [], []\n",
      "File \u001b[0;32m~/miniconda3/envs/dl4cv/lib/python3.9/site-packages/torch/nn/modules/linear.py:96\u001b[0m, in \u001b[0;36mLinear.forward\u001b[0;34m(self, input)\u001b[0m\n\u001b[1;32m     95\u001b[0m \u001b[39mdef\u001b[39;00m \u001b[39mforward\u001b[39m(\u001b[39mself\u001b[39m, \u001b[39minput\u001b[39m: Tensor) \u001b[39m-\u001b[39m\u001b[39m>\u001b[39m Tensor:\n\u001b[0;32m---> 96\u001b[0m     \u001b[39mreturn\u001b[39;00m F\u001b[39m.\u001b[39;49mlinear(\u001b[39minput\u001b[39;49m, \u001b[39mself\u001b[39;49m\u001b[39m.\u001b[39;49mweight, \u001b[39mself\u001b[39;49m\u001b[39m.\u001b[39;49mbias)\n",
      "File \u001b[0;32m~/miniconda3/envs/dl4cv/lib/python3.9/site-packages/torch/nn/functional.py:1847\u001b[0m, in \u001b[0;36mlinear\u001b[0;34m(input, weight, bias)\u001b[0m\n\u001b[1;32m   1845\u001b[0m \u001b[39mif\u001b[39;00m has_torch_function_variadic(\u001b[39minput\u001b[39m, weight):\n\u001b[1;32m   1846\u001b[0m     \u001b[39mreturn\u001b[39;00m handle_torch_function(linear, (\u001b[39minput\u001b[39m, weight), \u001b[39minput\u001b[39m, weight, bias\u001b[39m=\u001b[39mbias)\n\u001b[0;32m-> 1847\u001b[0m \u001b[39mreturn\u001b[39;00m torch\u001b[39m.\u001b[39;49m_C\u001b[39m.\u001b[39;49m_nn\u001b[39m.\u001b[39;49mlinear(\u001b[39minput\u001b[39;49m, weight, bias)\n",
      "\u001b[0;31mRuntimeError\u001b[0m: mat1 and mat2 shapes cannot be multiplied (1x12544 and 9216x128)"
     ]
    }
   ],
   "source": [
    "#########################################################################\n",
    "# TODO: Adapt the definition from the CNN class above to work on CIFAR.\n",
    "# You can copy and run the following prompt for evaluation:\n",
    "# CNN()(torch.randn(1,3,32,32)).shape\n",
    "# It should print 'torch.Size([1, 10])'\n",
    "# Hint: You need to change 2 things. \n",
    "#########################################################################\n",
    "\n",
    "class CNN(nn.Module):\n",
    "    def __init__(self):\n",
    "        super(CNN, self).__init__()\n",
    "        self.model = nn.Sequential(\n",
    "            nn.Conv2d(3, 32, kernel_size=3, stride=1, padding=0),\n",
    "            nn.ReLU(),\n",
    "            nn.Conv2d(32, 64, kernel_size=3, stride=1, padding=0),\n",
    "            nn.ReLU(),\n",
    "            nn.MaxPool2d(kernel_size=2, stride=2, padding=0),\n",
    "            nn.Dropout(p=0.25),\n",
    "            nn.Flatten(),\n",
    "            nn.Linear(12544, 128),\n",
    "            nn.ReLU(),\n",
    "            nn.Dropout(p=0.5),\n",
    "            nn.Linear(128, 10)\n",
    "        )\n",
    "\n",
    "    def forward(self, x):\n",
    "        return self.model(x)\n",
    "\n",
    "CNN()(torch.randn(1,3,32,32)).shape"
   ]
  },
  {
   "cell_type": "markdown",
   "metadata": {},
   "source": [
    "Let's try again"
   ]
  },
  {
   "cell_type": "code",
   "execution_count": null,
   "metadata": {
    "scrolled": true
   },
   "outputs": [],
   "source": [
    "cnn = CNN()\n",
    "optimizer = optim.SGD(cnn.parameters(), lr=0.1, momentum=0.9, weight_decay=5e-4)\n",
    "scheduler = torch.optim.lr_scheduler.CosineAnnealingLR(optimizer, T_max=200)\n",
    "\n",
    "epochs = 10\n",
    "for epoch in range(1, epochs + 1):\n",
    "    train(cnn, dl_train, optimizer, epoch, log_interval=100)\n",
    "    test(cnn, dl_test)    \n",
    "    scheduler.step()"
   ]
  },
  {
   "cell_type": "markdown",
   "metadata": {},
   "source": [
    "This should give 40 - 50 % - and if you are not already on Colab it will give you a stressed out laptop. The performance is a lot better than random, but we can definitely do better."
   ]
  },
  {
   "cell_type": "markdown",
   "metadata": {},
   "source": [
    "### Have fun with GPUs\n",
    "You can already call it a day until this point because we won't grade the rest of the excecise. You can have more fun with the rest :)\n"
   ]
  },
  {
   "cell_type": "markdown",
   "metadata": {},
   "source": [
    "\n",
    "If you didn't already, move to colab. To use a GPU, follow on the collaboratory menu tabs, \"Runtime\" => \"Change runtime type\" and set it to GPU. Then run the same training loop but now on GPU. \n",
    "\n",
    "It as easy as:"
   ]
  },
  {
   "cell_type": "code",
   "execution_count": null,
   "metadata": {},
   "outputs": [],
   "source": [
    "device = 'cuda'\n",
    "if device == 'cuda': torch.backends.cudnn.benchmark = True # additional speed up\n",
    "\n",
    "cnn = CNN()\n",
    "optimizer = optim.SGD(cnn.parameters(), lr=0.1, momentum=0.9, weight_decay=5e-4)\n",
    "scheduler = torch.optim.lr_scheduler.CosineAnnealingLR(optimizer, T_max=200)\n",
    "cnn = cnn.to(device)\n",
    "\n",
    "epochs = 10\n",
    "for epoch in range(1, epochs + 1):\n",
    "    train(cnn, dl_train, optimizer, epoch, log_interval=100, device=device)\n",
    "    test(cnn, dl_test, device=device)    \n",
    "    scheduler.step()"
   ]
  },
  {
   "cell_type": "markdown",
   "metadata": {},
   "source": [
    "This should be way faster now. But the true advantage of the GPU is that we can use much bigger models now and still train them in a reasonable amount of time. PyTorch is again very handy. The torchvision library comes with varies state-of-the-art model architectures, some of which you have seen in the lecture."
   ]
  },
  {
   "cell_type": "code",
   "execution_count": null,
   "metadata": {},
   "outputs": [],
   "source": [
    "from torchvision.models import resnet18"
   ]
  },
  {
   "cell_type": "code",
   "execution_count": null,
   "metadata": {
    "scrolled": true
   },
   "outputs": [],
   "source": [
    "cnn = resnet18()\n",
    "print(cnn)"
   ]
  },
  {
   "cell_type": "markdown",
   "metadata": {},
   "source": [
    "Looks scary! But the only thing you need to change to make it work on CIFAR is the last layer.\n",
    "Currently the last layer is:\n",
    "```\n",
    "  (fc): Linear(in_features=512, out_features=1000, bias=True)\n",
    "```\n",
    "out_features is the number of classes. This models are developed for Imagenet, a dataset with 1000 classes. So this part of the model you need to adapt. Additionally, you need to add a log-softmax layer again, as we us negative log-likelihood as the training criterion. "
   ]
  },
  {
   "cell_type": "code",
   "execution_count": null,
   "metadata": {},
   "outputs": [],
   "source": [
    "#########################################################################\n",
    "# TODO: Adapt the Resnet to work on CIFAR\n",
    "#########################################################################\n"
   ]
  },
  {
   "cell_type": "code",
   "execution_count": null,
   "metadata": {},
   "outputs": [],
   "source": [
    "# This should print 'torch.Size([16, 10])'\n",
    "cnn(torch.randn(16,3,32,32)).shape"
   ]
  },
  {
   "cell_type": "code",
   "execution_count": null,
   "metadata": {},
   "outputs": [],
   "source": [
    "device = 'cuda'\n",
    "if device == 'cuda': torch.backends.cudnn.benchmark = True # this gives us additional speed up\n",
    "\n",
    "optimizer = optim.SGD(cnn.parameters(), lr=0.1, momentum=0.9, weight_decay=5e-4)\n",
    "scheduler = torch.optim.lr_scheduler.CosineAnnealingLR(optimizer, T_max=200)\n",
    "cnn = cnn.to(device)\n",
    "\n",
    "epochs = 50\n",
    "for epoch in range(1, epochs + 1):\n",
    "    train(cnn, dl_train, optimizer, epoch, log_interval=100, device=device)\n",
    "    test(cnn, dl_test, device=device)    \n",
    "    scheduler.step()"
   ]
  },
  {
   "cell_type": "markdown",
   "metadata": {},
   "source": [
    "This should get us well above 75%, the best we got was ~ 80%.\n",
    "\n",
    "Now, use different torchvision architectures, different optimizers (Adam is always a good choice), data augmentation techniques, and hyperparameter search to achieve a test accuracy of >90 %"
   ]
  },
  {
   "cell_type": "code",
   "execution_count": null,
   "metadata": {},
   "outputs": [],
   "source": []
  }
 ],
 "metadata": {
  "kernelspec": {
   "display_name": "Python 3.10.4 ('cv_lab')",
   "language": "python",
   "name": "python3"
  },
  "language_info": {
   "codemirror_mode": {
    "name": "ipython",
    "version": 3
   },
   "file_extension": ".py",
   "mimetype": "text/x-python",
   "name": "python",
   "nbconvert_exporter": "python",
   "pygments_lexer": "ipython3",
   "version": "3.10.4"
  },
  "vscode": {
   "interpreter": {
    "hash": "bd8107006ee0ebc48b2351d2438e37736561e243dac5935835d8aec9907858b2"
   }
  }
 },
 "nbformat": 4,
 "nbformat_minor": 4
}
