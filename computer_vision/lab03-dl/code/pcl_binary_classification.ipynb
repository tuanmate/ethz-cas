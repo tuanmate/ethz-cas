{
 "cells": [
  {
   "cell_type": "markdown",
   "metadata": {},
   "source": [
    "# Point Cloud Binary Classification with PyTorch"
   ]
  },
  {
   "cell_type": "markdown",
   "metadata": {},
   "source": [
    "Make sure you are using the `dl4cv` conda environment."
   ]
  },
  {
   "cell_type": "markdown",
   "metadata": {},
   "source": [
    "## Dataset loading and visualization"
   ]
  },
  {
   "cell_type": "markdown",
   "metadata": {},
   "source": [
    "The input X contain 100 2D points, and y are their corresponding labels (0 or 1). The goal is to train a model that can classify every point to its correct label.\n"
   ]
  },
  {
   "cell_type": "code",
   "execution_count": 1,
   "metadata": {},
   "outputs": [
    {
     "data": {
      "image/png": "[encoded data removed]",
      "text/plain": [
       "<Figure size 640x480 with 1 Axes>"
      ]
     },
     "metadata": {},
     "output_type": "display_data"
    },
    {
     "data": {
      "text/plain": [
       "<Figure size 640x480 with 0 Axes>"
      ]
     },
     "metadata": {},
     "output_type": "display_data"
    }
   ],
   "source": [
    "%matplotlib inline\n",
    "import matplotlib.pyplot as plt\n",
    "import numpy as np\n",
    "import torch\n",
    "import torch.nn as nn\n",
    "import torch.nn.functional as F\n",
    "import torch.optim as optim\n",
    "from torch.utils.data import Dataset\n",
    "from torch.utils.data import DataLoader\n",
    "from torch.optim import Adam\n",
    "\n",
    "dataset = np.load('data/2d_pcl_dataset.npz')\n",
    "X, y = dataset['X'], dataset['y']\n",
    "\n",
    "X0 = X[y==0] # 50 2D points have label 0\n",
    "X1 = X[y==1] # 50 2D points have label 1\n",
    "\n",
    "def plot(X0, X1, fit_param=None):\n",
    "    plt.scatter(X0[:,0], X0[:,1], color='red', label=0)\n",
    "    plt.scatter(X1[:,0], X1[:,1], color='blue', label=1)\n",
    "    \n",
    "    plt.xlim([-0.55, 0.55])\n",
    "    plt.ylim([-0.35, 0.25])\n",
    "    plt.legend()\n",
    "    plt.show()\n",
    "    plt.clf()\n",
    "\n",
    "plot(X0, X1)"
   ]
  },
  {
   "cell_type": "markdown",
   "metadata": {},
   "source": [
    "## Logistic Regression for the point cloud classification task\n"
   ]
  },
  {
   "cell_type": "markdown",
   "metadata": {},
   "source": [
    "Starting by filling in the `Simple2DDataset` class below. First, in the class constructore `__init__`, you will need to read the right `2d_pcl_dataset.npz` from disk.\n",
    "\n",
    "Second, in the `__getitem__`, you will need to take a single data point and its label based on its index `idx`"
   ]
  },
  {
   "cell_type": "code",
   "execution_count": 3,
   "metadata": {},
   "outputs": [],
   "source": [
    "class Simple2DDataset(Dataset):\n",
    "    def __init__(self):\n",
    "        super().__init__()\n",
    "        #########################################################################\n",
    "        # TODO: read data from disk using np.load.\n",
    "        # Data is located in the folder \"data\".\n",
    "        # Save samples and labels to class members self.X and self.y respectively.\n",
    "        # samples should be an Nx2 numpy array. Labels should be Nx1.\n",
    "        #########################################################################\n",
    "        dataset = np.load('data/2d_pcl_dataset.npz')\n",
    "        self.X = dataset['X']\n",
    "        self.y = dataset['y']\n",
    "        \n",
    "     \n",
    "    def __len__(self):\n",
    "        # Returns the number of samples in the dataset.\n",
    "        return self.X.shape[0]\n",
    "    \n",
    "    def __getitem__(self, idx):\n",
    "        #########################################################################\n",
    "        # TODO: return the sample and label with index idx\n",
    "        #########################################################################\n",
    "        point = self.X[idx]\n",
    "        label = self.y[idx]\n",
    "        \n",
    "        # Convert to tensor.\n",
    "        return torch.from_numpy(point).float(), \\\n",
    "               torch.from_numpy(label[np.newaxis]).float()\n"
   ]
  },
  {
   "cell_type": "markdown",
   "metadata": {},
   "source": [
    "With the complete `Simple2DDataset`, we can create a PyTorch dataloader\n",
    "\n",
    "**NOTE**: if you encounter some unexpected errors in data loading, try setting `NUM_WORKERS = 0`"
   ]
  },
  {
   "cell_type": "code",
   "execution_count": 4,
   "metadata": {},
   "outputs": [],
   "source": [
    "BATCH_SIZE = 8\n",
    "NUM_WORKERS = 4\n",
    "\n",
    "# create the dataloader\n",
    "dataset = Simple2DDataset()\n",
    "train_dataloader = DataLoader(\n",
    "    dataset,\n",
    "    batch_size=BATCH_SIZE,\n",
    "    num_workers=NUM_WORKERS,\n",
    "    shuffle=True\n",
    ")"
   ]
  },
  {
   "cell_type": "markdown",
   "metadata": {},
   "source": [
    "Now, define your first network by filling in the `LinearClassifier` class below.\n",
    "\n",
    "Add a single linear layer `nn.Linear` inside the `nn.Sequential` call. The input is 2D, and the output should be a single value, corresponding to the probability of a given 2D point being part of cluster 0."
   ]
  },
  {
   "cell_type": "code",
   "execution_count": 5,
   "metadata": {},
   "outputs": [],
   "source": [
    "class LinearClassifier(nn.Module):\n",
    "    def __init__(self):\n",
    "        super().__init__()\n",
    "\n",
    "        self.codename = 'linear'\n",
    "\n",
    "        #########################################################################\n",
    "        # TODO: add a single linear layer with nn.Linear, inside the `nn.Sequential` call.\n",
    "        # Input is 2D.\n",
    "        # Output is a single value.\n",
    "        #########################################################################\n",
    "        self.model = nn.Sequential(\n",
    "            nn.Linear(2, 1)\n",
    "        )\n",
    "        \n",
    "    def forward(self, batch):\n",
    "        # Process batch using the defined model.\n",
    "        x = self.model(batch)\n",
    "        # Final sigmoid activation to obtain a probability between 0 and 1.\n",
    "        return torch.sigmoid(x)"
   ]
  },
  {
   "cell_type": "markdown",
   "metadata": {},
   "source": [
    "Now, you are asked to implement the training loop below"
   ]
  },
  {
   "cell_type": "code",
   "execution_count": 6,
   "metadata": {},
   "outputs": [],
   "source": [
    "def train(net, optimizer, dataloader, epoch):\n",
    "    net.train()\n",
    "    loss_sum = 0\n",
    "    for batch_idx, (point, label) in enumerate(dataloader):\n",
    "        # First we need to zero the gradient, otherwise PyTorch would accumulate them\n",
    "        optimizer.zero_grad()\n",
    "\n",
    "        #########################################################################\n",
    "        #TODO: \n",
    "        # 1. forward pass of the network to obtain the predictions given the batch\n",
    "        # 2. compute the loss using F.binary_cross_entropy\n",
    "        # 3. backward pass on the loss using loss.backward(), and one step \n",
    "        # of gradient descent (optimization) using optimizer.step()\n",
    "        #########################################################################\n",
    "        pred = net(point)\n",
    "        loss = F.binary_cross_entropy(pred, label)\n",
    "        loss.backward()\n",
    "\n",
    "        optimizer.step()\n",
    "\n",
    "        loss_sum += loss\n",
    "    return loss_sum\n",
    "        "
   ]
  },
  {
   "cell_type": "markdown",
   "metadata": {},
   "source": [
    "You can now run below to train the linear model."
   ]
  },
  {
   "cell_type": "code",
   "execution_count": 7,
   "metadata": {
    "scrolled": true,
    "tags": []
   },
   "outputs": [
    {
     "name": "stdout",
     "output_type": "stream",
     "text": [
      "[Epoch 01] Loss: 8.3405\n",
      "[Epoch 02] Loss: 6.8146\n",
      "[Epoch 03] Loss: 5.6665\n",
      "[Epoch 04] Loss: 5.2236\n",
      "[Epoch 05] Loss: 4.7808\n",
      "[Epoch 06] Loss: 4.5219\n",
      "[Epoch 07] Loss: 4.2548\n",
      "[Epoch 08] Loss: 4.3170\n",
      "[Epoch 09] Loss: 4.0914\n",
      "[Epoch 10] Loss: 4.0906\n",
      "[Epoch 11] Loss: 3.9934\n",
      "[Epoch 12] Loss: 3.9040\n",
      "[Epoch 13] Loss: 3.8056\n",
      "[Epoch 14] Loss: 3.7851\n",
      "[Epoch 15] Loss: 3.7219\n",
      "[Epoch 16] Loss: 3.7314\n",
      "[Epoch 17] Loss: 3.6667\n",
      "[Epoch 18] Loss: 3.8347\n",
      "[Epoch 19] Loss: 3.8563\n",
      "[Epoch 20] Loss: 3.8594\n",
      "[Epoch 21] Loss: 3.5513\n",
      "[Epoch 22] Loss: 3.5603\n",
      "[Epoch 23] Loss: 3.6060\n",
      "[Epoch 24] Loss: 3.5912\n",
      "[Epoch 25] Loss: 3.5400\n",
      "[Epoch 26] Loss: 3.5659\n",
      "[Epoch 27] Loss: 3.7282\n",
      "[Epoch 28] Loss: 3.6060\n",
      "[Epoch 29] Loss: 3.4814\n",
      "[Epoch 30] Loss: 3.4827\n",
      "[Epoch 31] Loss: 3.5483\n",
      "[Epoch 32] Loss: 3.6971\n",
      "[Epoch 33] Loss: 3.4928\n",
      "[Epoch 34] Loss: 3.5017\n",
      "[Epoch 35] Loss: 3.5403\n",
      "[Epoch 36] Loss: 3.5031\n",
      "[Epoch 37] Loss: 3.5516\n",
      "[Epoch 38] Loss: 3.5653\n",
      "[Epoch 39] Loss: 3.7520\n",
      "[Epoch 40] Loss: 3.7562\n",
      "[Epoch 41] Loss: 3.8449\n",
      "[Epoch 42] Loss: 3.4620\n",
      "[Epoch 43] Loss: 3.5141\n",
      "[Epoch 44] Loss: 3.4758\n",
      "[Epoch 45] Loss: 3.6559\n",
      "[Epoch 46] Loss: 3.7070\n",
      "[Epoch 47] Loss: 4.1045\n",
      "[Epoch 48] Loss: 3.4448\n",
      "[Epoch 49] Loss: 3.5295\n",
      "[Epoch 50] Loss: 3.4707\n",
      "[Epoch 51] Loss: 3.6107\n",
      "[Epoch 52] Loss: 3.4559\n",
      "[Epoch 53] Loss: 3.4528\n",
      "[Epoch 54] Loss: 3.6806\n",
      "[Epoch 55] Loss: 3.7238\n",
      "[Epoch 56] Loss: 3.5611\n",
      "[Epoch 57] Loss: 3.4518\n",
      "[Epoch 58] Loss: 3.4964\n",
      "[Epoch 59] Loss: 3.5110\n",
      "[Epoch 60] Loss: 3.7987\n",
      "[Epoch 61] Loss: 3.7760\n",
      "[Epoch 62] Loss: 3.4938\n",
      "[Epoch 63] Loss: 3.4647\n",
      "[Epoch 64] Loss: 3.5593\n",
      "[Epoch 65] Loss: 3.4934\n",
      "[Epoch 66] Loss: 3.7031\n",
      "[Epoch 67] Loss: 3.6507\n",
      "[Epoch 68] Loss: 3.4611\n",
      "[Epoch 69] Loss: 3.6648\n",
      "[Epoch 70] Loss: 3.6447\n",
      "[Epoch 71] Loss: 3.6343\n",
      "[Epoch 72] Loss: 3.5626\n",
      "[Epoch 73] Loss: 3.4493\n",
      "[Epoch 74] Loss: 3.4540\n",
      "[Epoch 75] Loss: 3.4522\n",
      "[Epoch 76] Loss: 3.6337\n",
      "[Epoch 77] Loss: 3.4626\n",
      "[Epoch 78] Loss: 3.5180\n",
      "[Epoch 79] Loss: 3.4984\n",
      "[Epoch 80] Loss: 3.4853\n",
      "[Epoch 81] Loss: 3.7191\n",
      "[Epoch 82] Loss: 3.8192\n",
      "[Epoch 83] Loss: 3.5845\n",
      "[Epoch 84] Loss: 3.7428\n",
      "[Epoch 85] Loss: 3.5072\n",
      "[Epoch 86] Loss: 3.6293\n",
      "[Epoch 87] Loss: 3.4376\n",
      "[Epoch 88] Loss: 3.6652\n",
      "[Epoch 89] Loss: 3.6408\n",
      "[Epoch 90] Loss: 3.5171\n",
      "[Epoch 91] Loss: 3.6776\n",
      "[Epoch 92] Loss: 3.4450\n",
      "[Epoch 93] Loss: 3.4420\n",
      "[Epoch 94] Loss: 3.4704\n",
      "[Epoch 95] Loss: 3.5386\n",
      "[Epoch 96] Loss: 3.4677\n",
      "[Epoch 97] Loss: 3.6841\n",
      "[Epoch 98] Loss: 3.5444\n",
      "[Epoch 99] Loss: 3.4990\n",
      "[Epoch 100] Loss: 3.6260\n"
     ]
    }
   ],
   "source": [
    "NUM_EPOCHS = 100\n",
    "# create the network.\n",
    "net = LinearClassifier()\n",
    "\n",
    "# create the optimizer.\n",
    "optimizer = Adam(net.parameters(), lr=0.1)\n",
    "\n",
    "best_accuracy = 0\n",
    "for epoch_idx in range(NUM_EPOCHS):\n",
    "    loss = train(net, optimizer, train_dataloader, epoch_idx)\n",
    "    print('[Epoch %02d] Loss: %.4f' % (epoch_idx + 1, loss))"
   ]
  },
  {
   "cell_type": "markdown",
   "metadata": {},
   "source": [
    "Now plot your result below.\n"
   ]
  },
  {
   "cell_type": "code",
   "execution_count": null,
   "metadata": {},
   "outputs": [],
   "source": []
  },
  {
   "cell_type": "code",
   "execution_count": 8,
   "metadata": {},
   "outputs": [
    {
     "data": {
      "image/png": "[encoded data removed]",
      "text/plain": [
       "<Figure size 640x480 with 1 Axes>"
      ]
     },
     "metadata": {},
     "output_type": "display_data"
    },
    {
     "data": {
      "text/plain": [
       "<Figure size 640x480 with 0 Axes>"
      ]
     },
     "metadata": {},
     "output_type": "display_data"
    }
   ],
   "source": [
    "p = np.linspace(-0.5, 0.5, 500)\n",
    "x_plot, y_plot = np.meshgrid(p, p)\n",
    "X_plot = np.stack((x_plot, y_plot), axis=2).reshape(-1, 2)\n",
    "X_plot = torch.from_numpy(X_plot).float()\n",
    "output = net(X_plot)\n",
    "output = output.detach().numpy()\n",
    "output = output.reshape(x_plot.shape[0], x_plot.shape[1])\n",
    "\n",
    "plt.contour(x_plot, y_plot, output, [0.5],\n",
    "                  colors=('k',),\n",
    "                  linewidths=(3,))\n",
    "plot(X0, X1)\n"
   ]
  },
  {
   "cell_type": "markdown",
   "metadata": {},
   "source": [
    "### Implement your first multi-layer perceptron (MLP) for point cloud classification\n",
    "Now you should notice that your logistic regression model cannot classify the point cloud correctly, and this is as expected :)  \n",
    "Therefore, we now ask you to implement an MLP for the same binary classification task."
   ]
  },
  {
   "cell_type": "code",
   "execution_count": 11,
   "metadata": {},
   "outputs": [],
   "source": [
    "# These are the parameters to be used\n",
    "nInput = 2\n",
    "nOutput = 1\n",
    "nHidden = 16\n",
    "act_fn = nn.ReLU()\n",
    "\n",
    "class MLP(nn.Module):\n",
    "    def __init__(self, nInput, nOutput, nHidden, act_fn):\n",
    "        super().__init__()\n",
    "\n",
    "        # Define the network layers in order.\n",
    "        # Input is 2D (nInput).\n",
    "        # Output is a single value (nOutput).\n",
    "        # Multiple linear layers each followed by a ReLU non-linearity (apart from the last).\n",
    "        #########################################################################\n",
    "        # TODO: add a two-layer MLP, inside the `nn.Sequential` call.\n",
    "        # Input is 2D.\n",
    "        # Output is a single value.\n",
    "\n",
    "        # Hint: unlike logistic regression where you need only one nn.Linear layer, \n",
    "        # here you will have two nn.Linear layers. After the first layer, we \n",
    "        # apply a ReLU activation function. The output is then passed to another \n",
    "        # linear layer. Note that you should use `nHidden` below as the hidden dimension \n",
    "        # of your linear layers.\n",
    "        #########################################################################\n",
    "        self.model = nn.Sequential(\n",
    "            nn.Linear(nInput, nHidden),\n",
    "            act_fn,\n",
    "            nn.Linear(nHidden, nOutput)\n",
    "        )\n",
    "        \n",
    "    def forward(self, batch):\n",
    "        # Process batch using the defined model.\n",
    "        x = self.model(batch)\n",
    "        # Final sigmoid activation to obtain a probability.\n",
    "        return torch.sigmoid(x)\n"
   ]
  },
  {
   "cell_type": "markdown",
   "metadata": {},
   "source": [
    "Run below again!"
   ]
  },
  {
   "cell_type": "code",
   "execution_count": 12,
   "metadata": {},
   "outputs": [
    {
     "name": "stdout",
     "output_type": "stream",
     "text": [
      "[Epoch 01] Loss: 6.3239\n",
      "[Epoch 02] Loss: 4.0652\n",
      "[Epoch 03] Loss: 3.9074\n",
      "[Epoch 04] Loss: 3.8972\n",
      "[Epoch 05] Loss: 3.9195\n",
      "[Epoch 06] Loss: 4.2360\n",
      "[Epoch 07] Loss: 3.6608\n",
      "[Epoch 08] Loss: 3.8937\n",
      "[Epoch 09] Loss: 3.2121\n",
      "[Epoch 10] Loss: 3.1077\n",
      "[Epoch 11] Loss: 3.5001\n",
      "[Epoch 12] Loss: 3.5373\n",
      "[Epoch 13] Loss: 3.3700\n",
      "[Epoch 14] Loss: 2.9872\n",
      "[Epoch 15] Loss: 2.8185\n",
      "[Epoch 16] Loss: 2.5924\n",
      "[Epoch 17] Loss: 2.3006\n",
      "[Epoch 18] Loss: 2.3745\n",
      "[Epoch 19] Loss: 1.9825\n",
      "[Epoch 20] Loss: 1.6825\n",
      "[Epoch 21] Loss: 1.3150\n",
      "[Epoch 22] Loss: 1.1602\n",
      "[Epoch 23] Loss: 0.8812\n",
      "[Epoch 24] Loss: 1.8852\n",
      "[Epoch 25] Loss: 1.5765\n",
      "[Epoch 26] Loss: 1.3584\n",
      "[Epoch 27] Loss: 0.9331\n",
      "[Epoch 28] Loss: 0.9617\n",
      "[Epoch 29] Loss: 0.7574\n",
      "[Epoch 30] Loss: 0.8580\n",
      "[Epoch 31] Loss: 0.8605\n",
      "[Epoch 32] Loss: 0.6232\n",
      "[Epoch 33] Loss: 0.5061\n",
      "[Epoch 34] Loss: 0.4998\n",
      "[Epoch 35] Loss: 0.4711\n",
      "[Epoch 36] Loss: 0.4755\n",
      "[Epoch 37] Loss: 0.4132\n",
      "[Epoch 38] Loss: 0.6077\n",
      "[Epoch 39] Loss: 0.7038\n",
      "[Epoch 40] Loss: 0.4772\n",
      "[Epoch 41] Loss: 0.5682\n",
      "[Epoch 42] Loss: 0.5182\n",
      "[Epoch 43] Loss: 0.5499\n",
      "[Epoch 44] Loss: 0.4095\n",
      "[Epoch 45] Loss: 0.3263\n",
      "[Epoch 46] Loss: 0.2702\n",
      "[Epoch 47] Loss: 0.2808\n",
      "[Epoch 48] Loss: 0.4209\n",
      "[Epoch 49] Loss: 0.5528\n",
      "[Epoch 50] Loss: 0.6889\n",
      "[Epoch 51] Loss: 0.3726\n",
      "[Epoch 52] Loss: 0.3885\n",
      "[Epoch 53] Loss: 0.4078\n",
      "[Epoch 54] Loss: 0.2628\n",
      "[Epoch 55] Loss: 0.3674\n",
      "[Epoch 56] Loss: 0.2405\n",
      "[Epoch 57] Loss: 0.2960\n",
      "[Epoch 58] Loss: 0.2492\n",
      "[Epoch 59] Loss: 0.2553\n",
      "[Epoch 60] Loss: 0.2370\n",
      "[Epoch 61] Loss: 0.2678\n",
      "[Epoch 62] Loss: 0.1914\n",
      "[Epoch 63] Loss: 0.1475\n",
      "[Epoch 64] Loss: 0.1585\n",
      "[Epoch 65] Loss: 0.1484\n",
      "[Epoch 66] Loss: 0.1816\n",
      "[Epoch 67] Loss: 0.2079\n",
      "[Epoch 68] Loss: 0.1478\n",
      "[Epoch 69] Loss: 0.1466\n",
      "[Epoch 70] Loss: 0.2026\n",
      "[Epoch 71] Loss: 0.1422\n",
      "[Epoch 72] Loss: 0.2318\n",
      "[Epoch 73] Loss: 0.1120\n",
      "[Epoch 74] Loss: 0.2013\n",
      "[Epoch 75] Loss: 0.2689\n",
      "[Epoch 76] Loss: 0.4323\n",
      "[Epoch 77] Loss: 0.2769\n",
      "[Epoch 78] Loss: 0.7251\n",
      "[Epoch 79] Loss: 0.7057\n",
      "[Epoch 80] Loss: 0.8072\n",
      "[Epoch 81] Loss: 0.8040\n",
      "[Epoch 82] Loss: 0.1442\n",
      "[Epoch 83] Loss: 0.2798\n",
      "[Epoch 84] Loss: 0.1352\n",
      "[Epoch 85] Loss: 0.1940\n",
      "[Epoch 86] Loss: 0.1632\n",
      "[Epoch 87] Loss: 0.1242\n",
      "[Epoch 88] Loss: 0.0883\n",
      "[Epoch 89] Loss: 0.0897\n",
      "[Epoch 90] Loss: 0.0815\n",
      "[Epoch 91] Loss: 0.1141\n",
      "[Epoch 92] Loss: 0.1447\n",
      "[Epoch 93] Loss: 0.1410\n",
      "[Epoch 94] Loss: 0.1483\n",
      "[Epoch 95] Loss: 0.1233\n",
      "[Epoch 96] Loss: 0.1137\n",
      "[Epoch 97] Loss: 0.0814\n",
      "[Epoch 98] Loss: 0.0945\n",
      "[Epoch 99] Loss: 0.0561\n",
      "[Epoch 100] Loss: 0.0708\n",
      "[Epoch 101] Loss: 0.0761\n",
      "[Epoch 102] Loss: 0.0620\n",
      "[Epoch 103] Loss: 0.0519\n",
      "[Epoch 104] Loss: 0.0687\n",
      "[Epoch 105] Loss: 0.0689\n",
      "[Epoch 106] Loss: 0.0510\n",
      "[Epoch 107] Loss: 0.0488\n",
      "[Epoch 108] Loss: 0.0495\n",
      "[Epoch 109] Loss: 0.0457\n",
      "[Epoch 110] Loss: 0.0461\n",
      "[Epoch 111] Loss: 0.0412\n",
      "[Epoch 112] Loss: 0.0468\n",
      "[Epoch 113] Loss: 0.0529\n",
      "[Epoch 114] Loss: 0.0425\n",
      "[Epoch 115] Loss: 0.0389\n",
      "[Epoch 116] Loss: 0.0402\n",
      "[Epoch 117] Loss: 0.0392\n",
      "[Epoch 118] Loss: 0.0508\n",
      "[Epoch 119] Loss: 0.0422\n",
      "[Epoch 120] Loss: 0.0350\n",
      "[Epoch 121] Loss: 0.0357\n",
      "[Epoch 122] Loss: 0.0349\n",
      "[Epoch 123] Loss: 0.0345\n",
      "[Epoch 124] Loss: 0.0407\n",
      "[Epoch 125] Loss: 0.0290\n",
      "[Epoch 126] Loss: 0.0380\n",
      "[Epoch 127] Loss: 0.0403\n",
      "[Epoch 128] Loss: 0.0298\n",
      "[Epoch 129] Loss: 0.0299\n",
      "[Epoch 130] Loss: 0.0317\n",
      "[Epoch 131] Loss: 0.0349\n",
      "[Epoch 132] Loss: 0.0272\n",
      "[Epoch 133] Loss: 0.0346\n",
      "[Epoch 134] Loss: 0.0300\n",
      "[Epoch 135] Loss: 0.0272\n",
      "[Epoch 136] Loss: 0.0230\n",
      "[Epoch 137] Loss: 0.0224\n",
      "[Epoch 138] Loss: 0.0235\n",
      "[Epoch 139] Loss: 0.0214\n",
      "[Epoch 140] Loss: 0.0211\n",
      "[Epoch 141] Loss: 0.0216\n",
      "[Epoch 142] Loss: 0.0212\n",
      "[Epoch 143] Loss: 0.0211\n",
      "[Epoch 144] Loss: 0.0207\n",
      "[Epoch 145] Loss: 0.0195\n",
      "[Epoch 146] Loss: 0.0250\n",
      "[Epoch 147] Loss: 0.0305\n",
      "[Epoch 148] Loss: 0.0164\n",
      "[Epoch 149] Loss: 0.0195\n",
      "[Epoch 150] Loss: 0.0171\n",
      "[Epoch 151] Loss: 0.0189\n",
      "[Epoch 152] Loss: 0.0188\n",
      "[Epoch 153] Loss: 0.0183\n",
      "[Epoch 154] Loss: 0.0170\n",
      "[Epoch 155] Loss: 0.0151\n",
      "[Epoch 156] Loss: 0.0171\n",
      "[Epoch 157] Loss: 0.0208\n",
      "[Epoch 158] Loss: 0.0167\n",
      "[Epoch 159] Loss: 0.0153\n",
      "[Epoch 160] Loss: 0.0153\n",
      "[Epoch 161] Loss: 0.0195\n",
      "[Epoch 162] Loss: 0.0145\n",
      "[Epoch 163] Loss: 0.0152\n",
      "[Epoch 164] Loss: 0.0145\n",
      "[Epoch 165] Loss: 0.0179\n",
      "[Epoch 166] Loss: 0.0131\n",
      "[Epoch 167] Loss: 0.0180\n",
      "[Epoch 168] Loss: 0.0141\n",
      "[Epoch 169] Loss: 0.0121\n",
      "[Epoch 170] Loss: 0.0121\n",
      "[Epoch 171] Loss: 0.0140\n",
      "[Epoch 172] Loss: 0.0153\n",
      "[Epoch 173] Loss: 0.0152\n",
      "[Epoch 174] Loss: 0.0115\n",
      "[Epoch 175] Loss: 0.0135\n",
      "[Epoch 176] Loss: 0.0155\n",
      "[Epoch 177] Loss: 0.0087\n",
      "[Epoch 178] Loss: 0.0126\n",
      "[Epoch 179] Loss: 0.0103\n",
      "[Epoch 180] Loss: 0.0109\n",
      "[Epoch 181] Loss: 0.0131\n",
      "[Epoch 182] Loss: 0.0136\n",
      "[Epoch 183] Loss: 0.0091\n",
      "[Epoch 184] Loss: 0.0108\n",
      "[Epoch 185] Loss: 0.0092\n",
      "[Epoch 186] Loss: 0.0094\n",
      "[Epoch 187] Loss: 0.0107\n",
      "[Epoch 188] Loss: 0.0102\n",
      "[Epoch 189] Loss: 0.0093\n",
      "[Epoch 190] Loss: 0.0111\n",
      "[Epoch 191] Loss: 0.0114\n",
      "[Epoch 192] Loss: 0.0068\n",
      "[Epoch 193] Loss: 0.0126\n",
      "[Epoch 194] Loss: 0.0085\n",
      "[Epoch 195] Loss: 0.0092\n",
      "[Epoch 196] Loss: 0.0076\n",
      "[Epoch 197] Loss: 0.0077\n",
      "[Epoch 198] Loss: 0.0081\n",
      "[Epoch 199] Loss: 0.0074\n",
      "[Epoch 200] Loss: 0.0120\n"
     ]
    }
   ],
   "source": [
    "NUM_EPOCHS = 200\n",
    "\n",
    "# create the network.\n",
    "net = MLP(nInput, nOutput, nHidden, act_fn)\n",
    "\n",
    "# create the optimizer.\n",
    "optimizer = Adam(net.parameters(), lr=0.1)\n",
    "\n",
    "best_accuracy = 0\n",
    "for epoch_idx in range(NUM_EPOCHS):\n",
    "    loss = train(net, optimizer, train_dataloader, epoch_idx)\n",
    "    print('[Epoch %02d] Loss: %.4f' % (epoch_idx + 1, loss))"
   ]
  },
  {
   "cell_type": "markdown",
   "metadata": {},
   "source": [
    "Again plot your result. You should see that the decision boundary can clearly separate the point clouds.\n"
   ]
  },
  {
   "cell_type": "code",
   "execution_count": 13,
   "metadata": {},
   "outputs": [
    {
     "data": {
      "image/png": "[encoded data removed]",
      "text/plain": [
       "<Figure size 640x480 with 1 Axes>"
      ]
     },
     "metadata": {},
     "output_type": "display_data"
    },
    {
     "data": {
      "text/plain": [
       "<Figure size 640x480 with 0 Axes>"
      ]
     },
     "metadata": {},
     "output_type": "display_data"
    }
   ],
   "source": [
    "p = np.linspace(-0.5, 0.5, 500)\n",
    "x_plot, y_plot = np.meshgrid(p, p)\n",
    "X_plot = np.stack((x_plot, y_plot), axis=2).reshape(-1, 2)\n",
    "X_plot = torch.from_numpy(X_plot).float()\n",
    "output = net(X_plot)\n",
    "output = output.detach().numpy()\n",
    "output = output.reshape(x_plot.shape[0], x_plot.shape[1])\n",
    "\n",
    "plt.contour(x_plot, y_plot, output, [0.5],\n",
    "                  colors=('k',),\n",
    "                  linewidths=(3,))\n",
    "plot(X0, X1)"
   ]
  },
  {
   "cell_type": "markdown",
   "metadata": {},
   "source": [
    "When you are done, move forward to `image_classification.ipynb`."
   ]
  },
  {
   "cell_type": "markdown",
   "metadata": {},
   "source": []
  }
 ],
 "metadata": {
  "kernelspec": {
   "display_name": "dl4cv",
   "language": "python",
   "name": "dl4cv"
  },
  "language_info": {
   "codemirror_mode": {
    "name": "ipython",
    "version": 3
   },
   "file_extension": ".py",
   "mimetype": "text/x-python",
   "name": "python",
   "nbconvert_exporter": "python",
   "pygments_lexer": "ipython3",
   "version": "3.9.13"
  },
  "vscode": {
   "interpreter": {
    "hash": "d268b61a0efacafa8645774cb6d0204c9f01d7563ef03f7672146d044e8f345c"
   }
  }
 },
 "nbformat": 4,
 "nbformat_minor": 4
}
